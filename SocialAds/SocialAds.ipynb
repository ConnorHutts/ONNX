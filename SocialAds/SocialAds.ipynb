{
 "cells": [
  {
   "cell_type": "code",
   "execution_count": null,
   "id": "bfce7216-3ad6-4660-93b4-81688d30da45",
   "metadata": {},
   "outputs": [],
   "source": [
    "##!pip install mlxtend\n",
    "##!pip install onnxmltools\n",
    "##!pip install onnxruntime\n"
   ]
  },
  {
   "cell_type": "code",
   "execution_count": null,
   "id": "bf90700a-c0db-42a0-97e5-7911f8bb83ad",
   "metadata": {},
   "outputs": [],
   "source": [
    "import numpy as np\n",
    "import torch\n",
    "import pandas as pd\n",
    "import sklearn\n",
    "import random\n",
    "\n",
    "import torch.nn as nn\n",
    "import torch.nn.functional as F\n",
    "import torch.optim as optim"
   ]
  },
  {
   "cell_type": "code",
   "execution_count": null,
   "id": "64a5f8cc-3070-4056-abb5-0d331aff12ad",
   "metadata": {},
   "outputs": [],
   "source": [
    "import matplotlib.pyplot as plt\n",
    "\n",
    "from mlxtend.plotting import heatmap\n",
    "from sklearn.model_selection import train_test_split\n",
    "from torch.utils.data import TensorDataset, DataLoader\n",
    "\n",
    "## coefficient of determination \n",
    "from sklearn.metrics import r2_score"
   ]
  },
  {
   "cell_type": "code",
   "execution_count": null,
   "id": "015ed3d5-9e3a-40c4-a5b9-4eca94e5114e",
   "metadata": {},
   "outputs": [],
   "source": [
    "import xgboost as xgb\n"
   ]
  },
  {
   "cell_type": "code",
   "execution_count": null,
   "id": "764382cf-dc7e-49fa-8549-51b710f78394",
   "metadata": {},
   "outputs": [],
   "source": [
    "import onnxruntime as rt\n",
    "import onnxmltools\n",
    "\n",
    "from skl2onnx.common.data_types import FloatTensorType"
   ]
  },
  {
   "cell_type": "code",
   "execution_count": null,
   "id": "2fb3d6ce-aa26-4330-b963-e251dee65a85",
   "metadata": {},
   "outputs": [],
   "source": [
    "## 0.001, 0.0001, 0.0003, 0.01, 0.03\n",
    "\n",
    "batch_size    = 16\n",
    "learning_rate = 0.005 ## 0.001\n",
    "N_Epochs      = 100\n",
    "\n",
    "epsilon = 0.0001"
   ]
  },
  {
   "cell_type": "code",
   "execution_count": null,
   "id": "35f2daee-c38f-40c7-b2ca-96c5930617f9",
   "metadata": {},
   "outputs": [],
   "source": [
    "path_data = '\"C:\\Users\\Conno\\Dropbox\\SocialAds\\social_ads.csv\"'\n",
    "\n",
    "WINE_raw_data = pd.read_csv( path_data, delimiter=\";\" )"
   ]
  },
  {
   "cell_type": "code",
   "execution_count": null,
   "id": "f340c50f-a5f7-40a5-b8aa-9bc0bfdbf962",
   "metadata": {},
   "outputs": [],
   "source": [
    "WINE_raw_data\n"
   ]
  },
  {
   "cell_type": "code",
   "execution_count": null,
   "id": "66b8478e-ddd3-468c-adff-c3318f6cd7cb",
   "metadata": {},
   "outputs": [],
   "source": [
    "headers_list = WINE_raw_data.columns.values.tolist()\n",
    "\n",
    "headers_list"
   ]
  },
  {
   "cell_type": "code",
   "execution_count": null,
   "id": "8f27b64a-f0ab-4b5e-bf86-da55c2886ba5",
   "metadata": {},
   "outputs": [],
   "source": [
    "headers_list2 = [ 'density',\n",
    " 'pH',\n",
    " 'alcohol',\n",
    " 'quality']"
   ]
  },
  {
   "cell_type": "code",
   "execution_count": null,
   "id": "48bc7dfc-3cc6-4876-8113-504ef6774ebf",
   "metadata": {},
   "outputs": [],
   "source": [
    "cm = np.corrcoef(   WINE_raw_data[headers_list].values.T   )\n",
    "hm = heatmap(cm, row_names=headers_list, column_names=headers_list, figsize=(20,10))\n",
    "plt.show()"
   ]
  },
  {
   "cell_type": "code",
   "execution_count": null,
   "id": "fa638f76-2613-4a22-971c-d48f109a4d2b",
   "metadata": {},
   "outputs": [],
   "source": [
    "## Convert Pandas to Numpy\n",
    "\n",
    "WINE_raw_data_np = WINE_raw_data.to_numpy()"
   ]
  },
  {
   "cell_type": "code",
   "execution_count": null,
   "id": "7f52c245-b2e9-4162-8151-d727876bc97c",
   "metadata": {},
   "outputs": [],
   "source": [
    "WINE_raw_data_np\n"
   ]
  },
  {
   "cell_type": "code",
   "execution_count": null,
   "id": "7737990b-95de-4105-b6bf-45f673bbd9b7",
   "metadata": {},
   "outputs": [],
   "source": [
    "WINE_raw_data_np.shape\n"
   ]
  },
  {
   "cell_type": "code",
   "execution_count": null,
   "id": "6021aa43-545d-4200-87dc-357d880a3d7d",
   "metadata": {},
   "outputs": [],
   "source": [
    "X = WINE_raw_data_np[:, :-1]\n",
    "\n",
    "\n",
    "y = WINE_raw_data_np[:, 11:12]"
   ]
  },
  {
   "cell_type": "code",
   "execution_count": null,
   "id": "eb4b6554-a909-48a2-a277-00a1005f3828",
   "metadata": {},
   "outputs": [],
   "source": [
    "y\n"
   ]
  },
  {
   "cell_type": "code",
   "execution_count": null,
   "id": "1564ee8f-1020-4fb0-9597-3faa88281c97",
   "metadata": {},
   "outputs": [],
   "source": [
    "print(X.shape)\n",
    "\n",
    "print(y.shape)"
   ]
  },
  {
   "cell_type": "code",
   "execution_count": null,
   "id": "323901ab-a905-47b0-b489-bb98243c6855",
   "metadata": {},
   "outputs": [],
   "source": [
    "random_seed = int( random.random() * 100 )     ## 42\n"
   ]
  },
  {
   "cell_type": "code",
   "execution_count": null,
   "id": "6000cd80-f442-4457-a2e3-15dcebf7b8b7",
   "metadata": {},
   "outputs": [],
   "source": [
    "X_train, X_test, y_train, y_test = train_test_split(X, y, test_size=0.2, random_state=random_seed)\n"
   ]
  },
  {
   "cell_type": "code",
   "execution_count": null,
   "id": "a58e88af-6943-40ad-bead-3c1b75b453e2",
   "metadata": {},
   "outputs": [],
   "source": [
    "print(X_train.shape)\n",
    "print(X_test.shape)\n",
    "print(y_train.shape)\n",
    "print(y_test.shape)"
   ]
  },
  {
   "cell_type": "code",
   "execution_count": null,
   "id": "daffb433-dad4-4244-a0f9-fde47bd15166",
   "metadata": {},
   "outputs": [],
   "source": [
    "y_test.dtype \n"
   ]
  },
  {
   "cell_type": "code",
   "execution_count": null,
   "id": "5366fb7f-f594-4a53-a2aa-ae1e9a78e895",
   "metadata": {},
   "outputs": [],
   "source": [
    "## fix data type\n",
    "\n",
    "X_train = X_train.astype(  np.float32  )\n",
    "X_test  = X_test.astype(   np.float32  )\n",
    "y_train = y_train.astype(  np.float32  )\n",
    "y_test  = y_test.astype(   np.float32  )"
   ]
  },
  {
   "cell_type": "code",
   "execution_count": null,
   "id": "2934af1b-19a0-4707-863a-3b0ed08bfaa7",
   "metadata": {},
   "outputs": [],
   "source": [
    "X_train_tr = torch.from_numpy(X_train)\n",
    "X_test_tr  = torch.from_numpy(X_test)\n",
    "y_train_tr = torch.from_numpy(y_train)\n",
    "y_test_tr  = torch.from_numpy(y_test)"
   ]
  },
  {
   "cell_type": "code",
   "execution_count": null,
   "id": "13cb84b5-5bce-41e9-a4b9-df00dee0bfa7",
   "metadata": {},
   "outputs": [],
   "source": [
    "x_means      = X_train_tr.mean(0, keepdim=True ) \n",
    "\n",
    "x_deviations = X_train_tr.std( 0, keepdim=True) + epsilon"
   ]
  },
  {
   "cell_type": "code",
   "execution_count": null,
   "id": "d93c21f8-8d99-4345-b4c9-dbb9b00b83f2",
   "metadata": {},
   "outputs": [],
   "source": [
    "x_means\n"
   ]
  },
  {
   "cell_type": "code",
   "execution_count": null,
   "id": "9bcd2f23-541f-4c10-bb72-2e786bf26b42",
   "metadata": {},
   "outputs": [],
   "source": [
    "x_deviations\n"
   ]
  },
  {
   "cell_type": "code",
   "execution_count": null,
   "id": "660cad1f-121a-4bc9-b566-f87ca7e92e63",
   "metadata": {},
   "outputs": [],
   "source": [
    "train_ds = TensorDataset( X_train_tr, y_train_tr  )\n"
   ]
  },
  {
   "cell_type": "code",
   "execution_count": null,
   "id": "bdfb3f79-58c9-4ae2-ba4d-0ea7aa042118",
   "metadata": {},
   "outputs": [],
   "source": [
    "train_dl = DataLoader( train_ds, batch_size, shuffle=True  )\n"
   ]
  },
  {
   "cell_type": "code",
   "execution_count": null,
   "id": "a9a56406-5d52-4f11-8018-f8860af40ed1",
   "metadata": {},
   "outputs": [],
   "source": [
    "train_dl\n"
   ]
  },
  {
   "cell_type": "code",
   "execution_count": null,
   "id": "45b6083c-0d6c-4eaa-910a-b0899f9c3108",
   "metadata": {},
   "outputs": [],
   "source": [
    "## Linear Regression\n",
    "\n",
    "class LinRegNet(nn.Module):\n",
    "    ## init the class\n",
    "    def __init__(self, x_means, x_deviations):\n",
    "        super().__init__()\n",
    "        \n",
    "        self.x_means      = x_means\n",
    "        self.x_deviations = x_deviations\n",
    "        \n",
    "        self.linear1 = nn.Linear(11, 1)\n",
    "        \n",
    "    ## perform inference\n",
    "    def forward(self, x):\n",
    "        \n",
    "        x = (x - self.x_means) / self.x_deviations\n",
    "        \n",
    "        y_pred = self.linear1(x)\n",
    "        ## return torch.round( y_pred )\n",
    "        return y_pred\n",
    "        "
   ]
  },
  {
   "cell_type": "code",
   "execution_count": null,
   "id": "360d526c-d952-44d9-a87a-c11821c02281",
   "metadata": {},
   "outputs": [],
   "source": [
    "## MLP\n",
    "\n",
    "class MLP_Net(nn.Module):\n",
    "    ## init the class\n",
    "    def __init__(self, x_means, x_deviations):\n",
    "        super().__init__()\n",
    "        \n",
    "        self.x_means      = x_means\n",
    "        self.x_deviations = x_deviations\n",
    "        \n",
    "        self.linear1 = nn.Linear(11, 8)\n",
    "        self.act1    = nn.Sigmoid()\n",
    "        self.linear2 = nn.Linear(8, 1)\n",
    "        self.dropout = nn.Dropout(0.25)\n",
    "        \n",
    "    ## perform inference\n",
    "    def forward(self, x):\n",
    "        \n",
    "        x = (x - self.x_means) / self.x_deviations\n",
    "        \n",
    "        x = self.linear1(x)\n",
    "        x = self.act1(x)\n",
    "        x = self.dropout(x)\n",
    "        y_pred = self.linear2(x)\n",
    "        \n",
    "        ## return torch.round( y_pred )\n",
    "        return y_pred"
   ]
  },
  {
   "cell_type": "code",
   "execution_count": null,
   "id": "47994e19-3af0-485b-860c-de79c5c0ab82",
   "metadata": {},
   "outputs": [],
   "source": [
    "## Deep Learning with 2 hidden layers\n",
    "\n",
    "class DL_Net(nn.Module):\n",
    "    ## init the class\n",
    "    def __init__(self, x_means, x_deviations):\n",
    "        super().__init__()\n",
    "        \n",
    "        self.x_means      = x_means\n",
    "        self.x_deviations = x_deviations\n",
    "        \n",
    "        self.linear1 = nn.Linear(11, 10)\n",
    "        self.act1    = nn.ReLU()\n",
    "        self.linear2 = nn.Linear(10, 6)\n",
    "        self.act2    = nn.ReLU()\n",
    "        self.linear3 = nn.Linear(6, 1)\n",
    "        self.dropout = nn.Dropout(0.25)\n",
    "        \n",
    "    ## perform inference\n",
    "    def forward(self, x):\n",
    "        \n",
    "        x = (x - self.x_means) / self.x_deviations\n",
    "        \n",
    "        x = self.linear1(x)\n",
    "        x = self.act1(x)\n",
    "        x = self.linear2(x)\n",
    "        x = self.act2(x)\n",
    "        ## x = self.dropout(x)\n",
    "        y_pred = self.linear3(x)\n",
    "        \n",
    "        ## return torch.round( y_pred )\n",
    "        return y_pred"
   ]
  },
  {
   "cell_type": "code",
   "execution_count": null,
   "id": "20b88911-9fef-4ced-831a-f0788e618ed0",
   "metadata": {},
   "outputs": [],
   "source": [
    "## Linear plus Nonlinear\n",
    "## f1 + f2\n",
    "\n",
    "class LinearPlusNonLinear_Net(nn.Module):\n",
    "    ## init the class\n",
    "    def __init__(self, x_means, x_deviations):\n",
    "        super().__init__()\n",
    "        \n",
    "        self.x_means      = x_means\n",
    "        self.x_deviations = x_deviations\n",
    "        \n",
    "        ## F1\n",
    "        self.f1_linear1 = nn.Linear(11, 1)\n",
    "        \n",
    "        ## F2\n",
    "        self.f2_linear1 = nn.Linear(11, 14)\n",
    "        self.f2_act1    = nn.Sigmoid()\n",
    "        self.f2_linear2 = nn.Linear(14, 1)\n",
    "        \n",
    "    \n",
    "    ## perform inference\n",
    "    def forward(self, x):\n",
    "        \n",
    "        x = (x - self.x_means) / self.x_deviations\n",
    "        \n",
    "        ## F1\n",
    "        f1 = self.f1_linear(x)\n",
    "        \n",
    "        ## F2\n",
    "        f2 = self.f2_linear1(x)\n",
    "        f2 = self.f2_act1(f2)\n",
    "        f2 = self.f2_linear2(f2)\n",
    "        \n",
    "        y_pred = f1 + f2\n",
    "        \n",
    "        ## return torch.round( y_pred )\n",
    "        return y_pred"
   ]
  },
  {
   "cell_type": "code",
   "execution_count": null,
   "id": "92d8b4e4-eedb-4d11-925f-cb996d3a633b",
   "metadata": {},
   "outputs": [],
   "source": [
    "def training_loop( N_Epochs, model, loss_fn, opt  ):\n",
    "    \n",
    "    for epoch in range(N_Epochs):\n",
    "        for xb, yb in train_dl:\n",
    "            \n",
    "            y_pred = model(xb)\n",
    "            loss   = loss_fn(y_pred, yb)\n",
    "            \n",
    "            opt.zero_grad()\n",
    "            loss.backward()\n",
    "            opt.step()\n",
    "            \n",
    "        if epoch % 20 == 0:\n",
    "            print(epoch, \"loss=\", loss)\n",
    "            "
   ]
  },
  {
   "cell_type": "code",
   "execution_count": null,
   "id": "602a4d44-8ea1-4152-9b12-d9e7895d84cd",
   "metadata": {},
   "outputs": [],
   "source": [
    "## model = LinRegNet( x_means, x_deviations  )\n",
    "model = DL_Net( x_means, x_deviations  )\n",
    "\n",
    "opt     = torch.optim.Adam(    model.parameters(), lr=learning_rate )\n",
    "loss_fn = F.mse_loss\n",
    "\n",
    "training_loop(  N_Epochs, model, loss_fn, opt  )"
   ]
  },
  {
   "cell_type": "code",
   "execution_count": null,
   "id": "56da9021-5d4f-4a8c-9e91-094507ad004e",
   "metadata": {},
   "outputs": [],
   "source": [
    "y_pred_test = model( X_test_tr )\n"
   ]
  },
  {
   "cell_type": "code",
   "execution_count": null,
   "id": "e629767e-9426-446b-8fb5-664781d7ddf9",
   "metadata": {},
   "outputs": [],
   "source": [
    "y_pred_test.shape\n"
   ]
  },
  {
   "cell_type": "code",
   "execution_count": null,
   "id": "58bc3b83-3a95-4272-b080-00b4b23cbda6",
   "metadata": {},
   "outputs": [],
   "source": [
    "## y_pred_test\n"
   ]
  },
  {
   "cell_type": "code",
   "execution_count": null,
   "id": "5c466ab6-b23e-4f66-9e92-62f519802279",
   "metadata": {},
   "outputs": [],
   "source": [
    "print( \"Testing R**2: \", r2_score(  y_test_tr.numpy(),  y_pred_test.detach().numpy()     )  ) \n"
   ]
  },
  {
   "cell_type": "code",
   "execution_count": null,
   "id": "31bb1fe8-3beb-4978-9436-b345ff7e059f",
   "metadata": {},
   "outputs": [],
   "source": [
    "y_pred_test.shape\n"
   ]
  },
  {
   "cell_type": "code",
   "execution_count": null,
   "id": "8c83ac1d-7d11-4118-ba9e-8fde07613f38",
   "metadata": {},
   "outputs": [],
   "source": [
    "y_test_tr.shape\n"
   ]
  },
  {
   "cell_type": "code",
   "execution_count": null,
   "id": "2a22a48a-eba7-4b0c-9964-6a40ce6fc2ca",
   "metadata": {},
   "outputs": [],
   "source": [
    "len(X_test_tr)\n"
   ]
  },
  {
   "cell_type": "code",
   "execution_count": null,
   "id": "35780354-e147-4299-be35-183cf4755e2b",
   "metadata": {},
   "outputs": [],
   "source": [
    "list_preds = []\n",
    "list_reals = []\n",
    "\n",
    "for i in range(len(X_test_tr)):\n",
    "    print(\"************************************\")\n",
    "    print(\"pred, real\")\n",
    "    np_real =   y_test_tr[i].detach().numpy()\n",
    "    np_pred = y_pred_test[i].detach().numpy()\n",
    "    print(( np_pred  , np_real))\n",
    "    list_preds.append(np_pred[0])\n",
    "    list_reals.append(np_real[0])"
   ]
  },
  {
   "cell_type": "code",
   "execution_count": null,
   "id": "942949a6-66fb-4b18-93ab-ef976d984674",
   "metadata": {},
   "outputs": [],
   "source": [
    "model.eval()\n",
    "\n",
    "dummy_input = torch.randn(1, 11)\n",
    "\n",
    "input_names  = [\"input1\"]\n",
    "output_names = [\"output1\"]\n",
    "\n",
    "torch.onnx.export(\n",
    "        model, \n",
    "        dummy_input,\n",
    "        \"DLnet_WineData.onnx\",\n",
    "        verbose=False,\n",
    "        input_names = input_names,\n",
    "        output_names = output_names\n",
    "        \n",
    ")"
   ]
  },
  {
   "cell_type": "code",
   "execution_count": null,
   "id": "1630f9fe-d2f9-4d13-8e83-954721991e70",
   "metadata": {},
   "outputs": [],
   "source": [
    "regressor = xgb.XGBRegressor(\n",
    "\n",
    "        n_estimators=100,\n",
    "        reg_lambda=1,\n",
    "        gamma=0,\n",
    "        max_depth=3\n",
    ")"
   ]
  },
  {
   "cell_type": "code",
   "execution_count": null,
   "id": "987c29ee-9907-49c4-80f3-0af2dc7fc2cd",
   "metadata": {},
   "outputs": [],
   "source": [
    "regressor.fit(X_train, y_train)\n"
   ]
  },
  {
   "cell_type": "code",
   "execution_count": null,
   "id": "dc12a40f-1779-44da-ba4e-3bd7b8fc61dc",
   "metadata": {},
   "outputs": [],
   "source": [
    "y_pred = regressor.predict(X_test)\n"
   ]
  },
  {
   "cell_type": "code",
   "execution_count": null,
   "id": "0689d27c-f387-49c0-9042-7d57a060315a",
   "metadata": {},
   "outputs": [],
   "source": [
    "y_pred.shape\n"
   ]
  },
  {
   "cell_type": "code",
   "execution_count": null,
   "id": "4f88080e-1e69-42a9-a1a2-b0a84dc9c423",
   "metadata": {},
   "outputs": [],
   "source": [
    "y_pred\n"
   ]
  },
  {
   "cell_type": "code",
   "execution_count": null,
   "id": "8659df5c-ddcb-40be-a1ce-4cdeaa008e63",
   "metadata": {},
   "outputs": [],
   "source": [
    "r2_score(y_test, y_pred)\n"
   ]
  },
  {
   "cell_type": "code",
   "execution_count": null,
   "id": "24a2cdd8-ffc9-4cb2-b0af-622bfadb37fa",
   "metadata": {},
   "outputs": [],
   "source": [
    "initial_types = [(\n",
    "          'float_input',\n",
    "          FloatTensorType(  [None, 11 ]  )\n",
    "\n",
    ")]"
   ]
  },
  {
   "cell_type": "code",
   "execution_count": null,
   "id": "98bf20f9-5454-4106-ba63-47298171cb6b",
   "metadata": {},
   "outputs": [],
   "source": []
  },
  {
   "cell_type": "code",
   "execution_count": null,
   "id": "f94d0a39-c791-453e-8979-875d34ebdab0",
   "metadata": {},
   "outputs": [],
   "source": [
    "onnx_model = onnxmltools.convert_xgboost(regressor, initial_types=initial_types)\n",
    "\n",
    "onnxmltools.utils.save_model(onnx_model, 'xgboost_WineQuality_ort.onnx')"
   ]
  },
  {
   "cell_type": "code",
   "execution_count": null,
   "id": "88d363b9-c723-4216-b264-0f2cb62065c6",
   "metadata": {},
   "outputs": [],
   "source": [
    "sess = rt.InferenceSession('xgboost_WineQuality_ort.onnx')\n"
   ]
  },
  {
   "cell_type": "code",
   "execution_count": null,
   "id": "37cf8681-619b-437f-ae52-a985d664a0df",
   "metadata": {},
   "outputs": [],
   "source": [
    "input_name = sess.get_inputs()[0].name\n"
   ]
  },
  {
   "cell_type": "code",
   "execution_count": null,
   "id": "47d96b87-6076-4b3f-800f-4ed95338097c",
   "metadata": {},
   "outputs": [],
   "source": [
    "input_name\n"
   ]
  },
  {
   "cell_type": "code",
   "execution_count": null,
   "id": "2c3b3904-7f65-4c82-a21a-621f5d6bdfd4",
   "metadata": {},
   "outputs": [],
   "source": [
    "label_name = sess.get_outputs()[0].name\n"
   ]
  },
  {
   "cell_type": "code",
   "execution_count": null,
   "id": "4c883afc-4d3e-4dc6-a911-6d05e2d2f2eb",
   "metadata": {},
   "outputs": [],
   "source": [
    "label_name\n"
   ]
  },
  {
   "cell_type": "code",
   "execution_count": null,
   "id": "4f7ad18c-5677-4ae1-a439-78001e864dcd",
   "metadata": {},
   "outputs": [],
   "source": [
    "pred_ort = sess.run(  [label_name], {input_name: X_test.astype(np.float32)}  )\n"
   ]
  },
  {
   "cell_type": "code",
   "execution_count": null,
   "id": "6f9026ef-8e6d-4eca-8703-7fca0aa8c98f",
   "metadata": {},
   "outputs": [],
   "source": [
    "pred_ort[0]\n"
   ]
  },
  {
   "cell_type": "code",
   "execution_count": null,
   "id": "96fa0a4d-1a71-4b39-a452-99f6b415dbfe",
   "metadata": {},
   "outputs": [],
   "source": []
  },
  {
   "cell_type": "code",
   "execution_count": null,
   "id": "072b2501-94d3-4e4d-be02-7c833d34ae9b",
   "metadata": {},
   "outputs": [],
   "source": []
  },
  {
   "cell_type": "code",
   "execution_count": null,
   "id": "0f1f37b6-d5e7-41a1-8945-009eb104122b",
   "metadata": {},
   "outputs": [],
   "source": []
  },
  {
   "cell_type": "code",
   "execution_count": null,
   "id": "2a2d7aa3-6987-471f-9046-fa788f165d47",
   "metadata": {},
   "outputs": [],
   "source": []
  },
  {
   "cell_type": "code",
   "execution_count": null,
   "id": "552209d9-afa4-4788-a775-e4e6535d8f4d",
   "metadata": {},
   "outputs": [],
   "source": []
  },
  {
   "cell_type": "code",
   "execution_count": null,
   "id": "2ba835d9-b19e-4e7b-a69a-00a60436efaf",
   "metadata": {},
   "outputs": [],
   "source": []
  },
  {
   "cell_type": "code",
   "execution_count": null,
   "id": "adc47cb3-05d7-45cc-b527-7b11d74c05c3",
   "metadata": {},
   "outputs": [],
   "source": []
  }
 ],
 "metadata": {
  "kernelspec": {
   "display_name": "Python 3 (ipykernel)",
   "language": "python",
   "name": "python3"
  },
  "language_info": {
   "codemirror_mode": {
    "name": "ipython",
    "version": 3
   },
   "file_extension": ".py",
   "mimetype": "text/x-python",
   "name": "python",
   "nbconvert_exporter": "python",
   "pygments_lexer": "ipython3",
   "version": "3.11.7"
  }
 },
 "nbformat": 4,
 "nbformat_minor": 5
}
