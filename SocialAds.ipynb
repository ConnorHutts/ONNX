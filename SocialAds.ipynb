{
 "cells": [
  {
   "cell_type": "code",
   "execution_count": 403,
   "id": "bfce7216-3ad6-4660-93b4-81688d30da45",
   "metadata": {},
   "outputs": [],
   "source": [
    "##!pip install mlxtend\n",
    "##!pip install onnxmltools\n",
    "##!pip install onnxruntime\n",
    "\n",
    "##!pip install torch torchvision torchaudio\n",
    "##!pip install onnx onnxruntime\n",
    "##!pip install numpy pillow\n",
    "##!pip install onnxmltools\n",
    "##!pip install onnxconverter_common\n",
    "##!pip install skl2onnx\n"
   ]
  },
  {
   "cell_type": "code",
   "execution_count": 404,
   "id": "bf90700a-c0db-42a0-97e5-7911f8bb83ad",
   "metadata": {},
   "outputs": [],
   "source": [
    "import numpy as np\n",
    "import torch\n",
    "import pandas as pd\n",
    "import sklearn\n",
    "import random\n",
    "import onnxconverter_common\n",
    "import skl2onnx\n",
    "\n",
    "\n",
    "import torch.nn as nn\n",
    "import torch.nn.functional as F\n",
    "import torch.optim as optim"
   ]
  },
  {
   "cell_type": "code",
   "execution_count": 405,
   "id": "64a5f8cc-3070-4056-abb5-0d331aff12ad",
   "metadata": {},
   "outputs": [],
   "source": [
    "import matplotlib.pyplot as plt\n",
    "\n",
    "from mlxtend.plotting import heatmap\n",
    "from sklearn.model_selection import train_test_split\n",
    "from torch.utils.data import TensorDataset, DataLoader\n",
    "\n",
    "## coefficient of determination \n",
    "from sklearn.metrics import r2_score"
   ]
  },
  {
   "cell_type": "code",
   "execution_count": null,
   "id": "015ed3d5-9e3a-40c4-a5b9-4eca94e5114e",
   "metadata": {},
   "outputs": [],
   "source": []
  },
  {
   "cell_type": "code",
   "execution_count": 406,
   "id": "764382cf-dc7e-49fa-8549-51b710f78394",
   "metadata": {},
   "outputs": [],
   "source": [
    "import onnxruntime as rt\n",
    "import onnxmltools\n",
    "\n",
    "from skl2onnx.common.data_types import FloatTensorType"
   ]
  },
  {
   "cell_type": "code",
   "execution_count": 407,
   "id": "2fb3d6ce-aa26-4330-b963-e251dee65a85",
   "metadata": {},
   "outputs": [],
   "source": [
    "## 0.001, 0.0001, 0.0003, 0.01, 0.03\n",
    "\n",
    "batch_size    = 16\n",
    "learning_rate = 0.005 ## 0.001\n",
    "N_Epochs      = 100\n",
    "\n",
    "epsilon = 0.0001"
   ]
  },
  {
   "cell_type": "code",
   "execution_count": 408,
   "id": "35f2daee-c38f-40c7-b2ca-96c5930617f9",
   "metadata": {},
   "outputs": [],
   "source": [
    "import pandas as pd\n",
    "\n",
    "# Specify the corrected file path using forward slashes or double backslashes\n",
    "path_data = \"C:/Users/Conno/Dropbox/SocialAds/social_ads.csv\"\n",
    "# Alternatively, use double backslashes for Windows paths:\n",
    "# path_data = \"C:\\\\Users\\\\Conno\\\\Dropbox\\\\SocialAds\\\\social_ads.csv\"\n",
    "\n",
    "# Read the CSV file into a DataFrame\n",
    "ADS_raw_data = pd.read_csv(path_data, delimiter=\",\")\n"
   ]
  },
  {
   "cell_type": "code",
   "execution_count": 409,
   "id": "f340c50f-a5f7-40a5-b8aa-9bc0bfdbf962",
   "metadata": {},
   "outputs": [
    {
     "data": {
      "text/html": [
       "<div>\n",
       "<style scoped>\n",
       "    .dataframe tbody tr th:only-of-type {\n",
       "        vertical-align: middle;\n",
       "    }\n",
       "\n",
       "    .dataframe tbody tr th {\n",
       "        vertical-align: top;\n",
       "    }\n",
       "\n",
       "    .dataframe thead th {\n",
       "        text-align: right;\n",
       "    }\n",
       "</style>\n",
       "<table border=\"1\" class=\"dataframe\">\n",
       "  <thead>\n",
       "    <tr style=\"text-align: right;\">\n",
       "      <th></th>\n",
       "      <th>Age</th>\n",
       "      <th>Salary</th>\n",
       "      <th>Purchased</th>\n",
       "    </tr>\n",
       "  </thead>\n",
       "  <tbody>\n",
       "    <tr>\n",
       "      <th>0</th>\n",
       "      <td>19</td>\n",
       "      <td>19000</td>\n",
       "      <td>0</td>\n",
       "    </tr>\n",
       "    <tr>\n",
       "      <th>1</th>\n",
       "      <td>35</td>\n",
       "      <td>20000</td>\n",
       "      <td>0</td>\n",
       "    </tr>\n",
       "    <tr>\n",
       "      <th>2</th>\n",
       "      <td>26</td>\n",
       "      <td>43000</td>\n",
       "      <td>0</td>\n",
       "    </tr>\n",
       "    <tr>\n",
       "      <th>3</th>\n",
       "      <td>27</td>\n",
       "      <td>57000</td>\n",
       "      <td>0</td>\n",
       "    </tr>\n",
       "    <tr>\n",
       "      <th>4</th>\n",
       "      <td>19</td>\n",
       "      <td>76000</td>\n",
       "      <td>0</td>\n",
       "    </tr>\n",
       "    <tr>\n",
       "      <th>...</th>\n",
       "      <td>...</td>\n",
       "      <td>...</td>\n",
       "      <td>...</td>\n",
       "    </tr>\n",
       "    <tr>\n",
       "      <th>395</th>\n",
       "      <td>46</td>\n",
       "      <td>41000</td>\n",
       "      <td>1</td>\n",
       "    </tr>\n",
       "    <tr>\n",
       "      <th>396</th>\n",
       "      <td>51</td>\n",
       "      <td>23000</td>\n",
       "      <td>1</td>\n",
       "    </tr>\n",
       "    <tr>\n",
       "      <th>397</th>\n",
       "      <td>50</td>\n",
       "      <td>20000</td>\n",
       "      <td>1</td>\n",
       "    </tr>\n",
       "    <tr>\n",
       "      <th>398</th>\n",
       "      <td>36</td>\n",
       "      <td>33000</td>\n",
       "      <td>0</td>\n",
       "    </tr>\n",
       "    <tr>\n",
       "      <th>399</th>\n",
       "      <td>49</td>\n",
       "      <td>36000</td>\n",
       "      <td>1</td>\n",
       "    </tr>\n",
       "  </tbody>\n",
       "</table>\n",
       "<p>400 rows × 3 columns</p>\n",
       "</div>"
      ],
      "text/plain": [
       "     Age  Salary  Purchased\n",
       "0     19   19000          0\n",
       "1     35   20000          0\n",
       "2     26   43000          0\n",
       "3     27   57000          0\n",
       "4     19   76000          0\n",
       "..   ...     ...        ...\n",
       "395   46   41000          1\n",
       "396   51   23000          1\n",
       "397   50   20000          1\n",
       "398   36   33000          0\n",
       "399   49   36000          1\n",
       "\n",
       "[400 rows x 3 columns]"
      ]
     },
     "execution_count": 409,
     "metadata": {},
     "output_type": "execute_result"
    }
   ],
   "source": [
    "ADS_raw_data\n"
   ]
  },
  {
   "cell_type": "code",
   "execution_count": 410,
   "id": "66b8478e-ddd3-468c-adff-c3318f6cd7cb",
   "metadata": {},
   "outputs": [
    {
     "data": {
      "text/plain": [
       "['Age', 'Salary', 'Purchased']"
      ]
     },
     "execution_count": 410,
     "metadata": {},
     "output_type": "execute_result"
    }
   ],
   "source": [
    "headers_list = ADS_raw_data.columns.values.tolist()\n",
    "\n",
    "headers_list"
   ]
  },
  {
   "cell_type": "code",
   "execution_count": 411,
   "id": "8f27b64a-f0ab-4b5e-bf86-da55c2886ba5",
   "metadata": {},
   "outputs": [],
   "source": [
    "headers_list2 = [ 'Age',\n",
    " 'Salary',\n",
    " 'Purchased']"
   ]
  },
  {
   "cell_type": "code",
   "execution_count": 412,
   "id": "48bc7dfc-3cc6-4876-8113-504ef6774ebf",
   "metadata": {},
   "outputs": [
    {
     "data": {
      "image/png": "[encoded data removed]",
      "text/plain": [
       "<Figure size 500x400 with 2 Axes>"
      ]
     },
     "metadata": {},
     "output_type": "display_data"
    }
   ],
   "source": [
    "import numpy as np\n",
    "import pandas as pd\n",
    "import matplotlib.pyplot as plt\n",
    "import seaborn as sns\n",
    "\n",
    "# Load your Ads data from the CSV file\n",
    "# Replace 'path_to_your_file.csv' with the actual path to your CSV file\n",
    "path_data = \"C:/Users/Conno/Dropbox/SocialAds/social_ads.csv\"\n",
    "\n",
    "ADS_raw_data = pd.read_csv(path_data)\n",
    "\n",
    "# Select columns of interest for correlation analysis\n",
    "columns_of_interest = ['Age', 'Salary', 'Purchased']\n",
    "\n",
    "# Convert 'purchased' column to numeric (assuming it's already 0/1)\n",
    "ADS_raw_data['Purchased'] = pd.to_numeric(ADS_raw_data['Purchased'], errors='coerce')\n",
    "\n",
    "# Calculate correlation coefficients\n",
    "cm = np.corrcoef(ADS_raw_data[columns_of_interest].values.T)\n",
    "\n",
    "# Create heatmap using seaborn\n",
    "plt.figure(figsize=(5, 4))\n",
    "sns.heatmap(cm, annot=True, fmt=\".2f\", cmap=\"coolwarm\", xticklabels=columns_of_interest, yticklabels=columns_of_interest)\n",
    "plt.title(\"Correlation Heatmap for Age, Salary, and Purchased\")\n",
    "plt.show()\n",
    "\n"
   ]
  },
  {
   "cell_type": "code",
   "execution_count": 413,
   "id": "fa638f76-2613-4a22-971c-d48f109a4d2b",
   "metadata": {},
   "outputs": [],
   "source": [
    "## Convert Pandas to Numpy\n",
    "\n",
    "ADS_raw_data_np = ADS_raw_data.to_numpy()"
   ]
  },
  {
   "cell_type": "code",
   "execution_count": 414,
   "id": "7f52c245-b2e9-4162-8151-d727876bc97c",
   "metadata": {},
   "outputs": [
    {
     "data": {
      "text/plain": [
       "array([[   19, 19000,     0],\n",
       "       [   35, 20000,     0],\n",
       "       [   26, 43000,     0],\n",
       "       ...,\n",
       "       [   50, 20000,     1],\n",
       "       [   36, 33000,     0],\n",
       "       [   49, 36000,     1]], dtype=int64)"
      ]
     },
     "execution_count": 414,
     "metadata": {},
     "output_type": "execute_result"
    }
   ],
   "source": [
    "ADS_raw_data_np\n"
   ]
  },
  {
   "cell_type": "code",
   "execution_count": 415,
   "id": "7737990b-95de-4105-b6bf-45f673bbd9b7",
   "metadata": {},
   "outputs": [
    {
     "data": {
      "text/plain": [
       "(400, 3)"
      ]
     },
     "execution_count": 415,
     "metadata": {},
     "output_type": "execute_result"
    }
   ],
   "source": [
    "ADS_raw_data_np.shape\n"
   ]
  },
  {
   "cell_type": "code",
   "execution_count": 416,
   "id": "6021aa43-545d-4200-87dc-357d880a3d7d",
   "metadata": {},
   "outputs": [],
   "source": [
    "X = ADS_raw_data_np[:, :-1]\n",
    "\n",
    "\n",
    "y = ADS_raw_data_np[:, 1:2]"
   ]
  },
  {
   "cell_type": "code",
   "execution_count": 417,
   "id": "eb4b6554-a909-48a2-a277-00a1005f3828",
   "metadata": {},
   "outputs": [
    {
     "data": {
      "text/plain": [
       "array([[ 19000],\n",
       "       [ 20000],\n",
       "       [ 43000],\n",
       "       [ 57000],\n",
       "       [ 76000],\n",
       "       [ 58000],\n",
       "       [ 84000],\n",
       "       [150000],\n",
       "       [ 33000],\n",
       "       [ 65000],\n",
       "       [ 80000],\n",
       "       [ 52000],\n",
       "       [ 86000],\n",
       "       [ 18000],\n",
       "       [ 82000],\n",
       "       [ 80000],\n",
       "       [ 25000],\n",
       "       [ 26000],\n",
       "       [ 28000],\n",
       "       [ 29000],\n",
       "       [ 22000],\n",
       "       [ 49000],\n",
       "       [ 41000],\n",
       "       [ 22000],\n",
       "       [ 23000],\n",
       "       [ 20000],\n",
       "       [ 28000],\n",
       "       [ 30000],\n",
       "       [ 43000],\n",
       "       [ 18000],\n",
       "       [ 74000],\n",
       "       [137000],\n",
       "       [ 16000],\n",
       "       [ 44000],\n",
       "       [ 90000],\n",
       "       [ 27000],\n",
       "       [ 28000],\n",
       "       [ 49000],\n",
       "       [ 72000],\n",
       "       [ 31000],\n",
       "       [ 17000],\n",
       "       [ 51000],\n",
       "       [108000],\n",
       "       [ 15000],\n",
       "       [ 84000],\n",
       "       [ 20000],\n",
       "       [ 79000],\n",
       "       [ 54000],\n",
       "       [135000],\n",
       "       [ 89000],\n",
       "       [ 32000],\n",
       "       [ 44000],\n",
       "       [ 83000],\n",
       "       [ 23000],\n",
       "       [ 58000],\n",
       "       [ 55000],\n",
       "       [ 48000],\n",
       "       [ 79000],\n",
       "       [ 18000],\n",
       "       [117000],\n",
       "       [ 20000],\n",
       "       [ 87000],\n",
       "       [ 66000],\n",
       "       [120000],\n",
       "       [ 83000],\n",
       "       [ 58000],\n",
       "       [ 19000],\n",
       "       [ 82000],\n",
       "       [ 63000],\n",
       "       [ 68000],\n",
       "       [ 80000],\n",
       "       [ 27000],\n",
       "       [ 23000],\n",
       "       [113000],\n",
       "       [ 18000],\n",
       "       [112000],\n",
       "       [ 52000],\n",
       "       [ 27000],\n",
       "       [ 87000],\n",
       "       [ 17000],\n",
       "       [ 80000],\n",
       "       [ 42000],\n",
       "       [ 49000],\n",
       "       [ 88000],\n",
       "       [ 62000],\n",
       "       [118000],\n",
       "       [ 55000],\n",
       "       [ 85000],\n",
       "       [ 81000],\n",
       "       [ 50000],\n",
       "       [ 81000],\n",
       "       [116000],\n",
       "       [ 15000],\n",
       "       [ 28000],\n",
       "       [ 83000],\n",
       "       [ 44000],\n",
       "       [ 25000],\n",
       "       [123000],\n",
       "       [ 73000],\n",
       "       [ 37000],\n",
       "       [ 88000],\n",
       "       [ 59000],\n",
       "       [ 86000],\n",
       "       [149000],\n",
       "       [ 21000],\n",
       "       [ 72000],\n",
       "       [ 35000],\n",
       "       [ 89000],\n",
       "       [ 86000],\n",
       "       [ 80000],\n",
       "       [ 71000],\n",
       "       [ 71000],\n",
       "       [ 61000],\n",
       "       [ 55000],\n",
       "       [ 80000],\n",
       "       [ 57000],\n",
       "       [ 75000],\n",
       "       [ 52000],\n",
       "       [ 59000],\n",
       "       [ 59000],\n",
       "       [ 75000],\n",
       "       [ 72000],\n",
       "       [ 75000],\n",
       "       [ 53000],\n",
       "       [ 51000],\n",
       "       [ 61000],\n",
       "       [ 65000],\n",
       "       [ 32000],\n",
       "       [ 17000],\n",
       "       [ 84000],\n",
       "       [ 58000],\n",
       "       [ 31000],\n",
       "       [ 87000],\n",
       "       [ 68000],\n",
       "       [ 55000],\n",
       "       [ 63000],\n",
       "       [ 82000],\n",
       "       [107000],\n",
       "       [ 59000],\n",
       "       [ 25000],\n",
       "       [ 85000],\n",
       "       [ 68000],\n",
       "       [ 59000],\n",
       "       [ 89000],\n",
       "       [ 25000],\n",
       "       [ 89000],\n",
       "       [ 96000],\n",
       "       [ 30000],\n",
       "       [ 61000],\n",
       "       [ 74000],\n",
       "       [ 15000],\n",
       "       [ 45000],\n",
       "       [ 76000],\n",
       "       [ 50000],\n",
       "       [ 47000],\n",
       "       [ 15000],\n",
       "       [ 59000],\n",
       "       [ 75000],\n",
       "       [ 30000],\n",
       "       [135000],\n",
       "       [100000],\n",
       "       [ 90000],\n",
       "       [ 33000],\n",
       "       [ 38000],\n",
       "       [ 69000],\n",
       "       [ 86000],\n",
       "       [ 55000],\n",
       "       [ 71000],\n",
       "       [148000],\n",
       "       [ 47000],\n",
       "       [ 88000],\n",
       "       [115000],\n",
       "       [118000],\n",
       "       [ 43000],\n",
       "       [ 72000],\n",
       "       [ 28000],\n",
       "       [ 47000],\n",
       "       [ 22000],\n",
       "       [ 23000],\n",
       "       [ 34000],\n",
       "       [ 16000],\n",
       "       [ 71000],\n",
       "       [117000],\n",
       "       [ 43000],\n",
       "       [ 60000],\n",
       "       [ 66000],\n",
       "       [ 82000],\n",
       "       [ 41000],\n",
       "       [ 72000],\n",
       "       [ 32000],\n",
       "       [ 84000],\n",
       "       [ 26000],\n",
       "       [ 43000],\n",
       "       [ 70000],\n",
       "       [ 89000],\n",
       "       [ 43000],\n",
       "       [ 79000],\n",
       "       [ 36000],\n",
       "       [ 80000],\n",
       "       [ 22000],\n",
       "       [ 39000],\n",
       "       [ 74000],\n",
       "       [134000],\n",
       "       [ 71000],\n",
       "       [101000],\n",
       "       [ 47000],\n",
       "       [130000],\n",
       "       [114000],\n",
       "       [142000],\n",
       "       [ 22000],\n",
       "       [ 96000],\n",
       "       [150000],\n",
       "       [ 42000],\n",
       "       [ 58000],\n",
       "       [ 43000],\n",
       "       [108000],\n",
       "       [ 65000],\n",
       "       [ 78000],\n",
       "       [ 96000],\n",
       "       [143000],\n",
       "       [ 80000],\n",
       "       [ 91000],\n",
       "       [144000],\n",
       "       [102000],\n",
       "       [ 60000],\n",
       "       [ 53000],\n",
       "       [126000],\n",
       "       [133000],\n",
       "       [ 72000],\n",
       "       [ 80000],\n",
       "       [147000],\n",
       "       [ 42000],\n",
       "       [107000],\n",
       "       [ 86000],\n",
       "       [112000],\n",
       "       [ 79000],\n",
       "       [ 57000],\n",
       "       [ 80000],\n",
       "       [ 82000],\n",
       "       [143000],\n",
       "       [149000],\n",
       "       [ 59000],\n",
       "       [ 88000],\n",
       "       [104000],\n",
       "       [ 72000],\n",
       "       [146000],\n",
       "       [ 50000],\n",
       "       [122000],\n",
       "       [ 52000],\n",
       "       [ 97000],\n",
       "       [ 39000],\n",
       "       [ 52000],\n",
       "       [134000],\n",
       "       [146000],\n",
       "       [ 44000],\n",
       "       [ 90000],\n",
       "       [ 72000],\n",
       "       [ 57000],\n",
       "       [ 95000],\n",
       "       [131000],\n",
       "       [ 77000],\n",
       "       [144000],\n",
       "       [125000],\n",
       "       [ 72000],\n",
       "       [ 90000],\n",
       "       [108000],\n",
       "       [ 75000],\n",
       "       [ 74000],\n",
       "       [144000],\n",
       "       [ 61000],\n",
       "       [133000],\n",
       "       [ 76000],\n",
       "       [ 42000],\n",
       "       [106000],\n",
       "       [ 26000],\n",
       "       [ 74000],\n",
       "       [ 71000],\n",
       "       [ 88000],\n",
       "       [ 38000],\n",
       "       [ 36000],\n",
       "       [ 88000],\n",
       "       [ 61000],\n",
       "       [ 70000],\n",
       "       [ 21000],\n",
       "       [141000],\n",
       "       [ 93000],\n",
       "       [ 62000],\n",
       "       [138000],\n",
       "       [ 79000],\n",
       "       [ 78000],\n",
       "       [134000],\n",
       "       [ 89000],\n",
       "       [ 39000],\n",
       "       [ 77000],\n",
       "       [ 57000],\n",
       "       [ 63000],\n",
       "       [ 73000],\n",
       "       [112000],\n",
       "       [ 79000],\n",
       "       [117000],\n",
       "       [ 38000],\n",
       "       [ 74000],\n",
       "       [137000],\n",
       "       [ 79000],\n",
       "       [ 60000],\n",
       "       [ 54000],\n",
       "       [134000],\n",
       "       [113000],\n",
       "       [125000],\n",
       "       [ 50000],\n",
       "       [ 70000],\n",
       "       [ 96000],\n",
       "       [ 50000],\n",
       "       [141000],\n",
       "       [ 79000],\n",
       "       [ 75000],\n",
       "       [104000],\n",
       "       [ 55000],\n",
       "       [ 32000],\n",
       "       [ 60000],\n",
       "       [138000],\n",
       "       [ 82000],\n",
       "       [ 52000],\n",
       "       [ 30000],\n",
       "       [131000],\n",
       "       [ 60000],\n",
       "       [ 72000],\n",
       "       [ 75000],\n",
       "       [118000],\n",
       "       [107000],\n",
       "       [ 51000],\n",
       "       [119000],\n",
       "       [ 65000],\n",
       "       [ 65000],\n",
       "       [ 60000],\n",
       "       [ 54000],\n",
       "       [144000],\n",
       "       [ 79000],\n",
       "       [ 55000],\n",
       "       [122000],\n",
       "       [104000],\n",
       "       [ 75000],\n",
       "       [ 65000],\n",
       "       [ 51000],\n",
       "       [105000],\n",
       "       [ 63000],\n",
       "       [ 72000],\n",
       "       [108000],\n",
       "       [ 77000],\n",
       "       [ 61000],\n",
       "       [113000],\n",
       "       [ 75000],\n",
       "       [ 90000],\n",
       "       [ 57000],\n",
       "       [ 99000],\n",
       "       [ 34000],\n",
       "       [ 70000],\n",
       "       [ 72000],\n",
       "       [ 71000],\n",
       "       [ 54000],\n",
       "       [129000],\n",
       "       [ 34000],\n",
       "       [ 50000],\n",
       "       [ 79000],\n",
       "       [104000],\n",
       "       [ 29000],\n",
       "       [ 47000],\n",
       "       [ 88000],\n",
       "       [ 71000],\n",
       "       [ 26000],\n",
       "       [ 46000],\n",
       "       [ 83000],\n",
       "       [ 73000],\n",
       "       [130000],\n",
       "       [ 80000],\n",
       "       [ 32000],\n",
       "       [ 74000],\n",
       "       [ 53000],\n",
       "       [ 87000],\n",
       "       [ 23000],\n",
       "       [ 64000],\n",
       "       [ 33000],\n",
       "       [139000],\n",
       "       [ 28000],\n",
       "       [ 33000],\n",
       "       [ 60000],\n",
       "       [ 39000],\n",
       "       [ 71000],\n",
       "       [ 34000],\n",
       "       [ 35000],\n",
       "       [ 33000],\n",
       "       [ 23000],\n",
       "       [ 45000],\n",
       "       [ 42000],\n",
       "       [ 59000],\n",
       "       [ 41000],\n",
       "       [ 23000],\n",
       "       [ 20000],\n",
       "       [ 33000],\n",
       "       [ 36000]], dtype=int64)"
      ]
     },
     "execution_count": 417,
     "metadata": {},
     "output_type": "execute_result"
    }
   ],
   "source": [
    "y\n"
   ]
  },
  {
   "cell_type": "code",
   "execution_count": 418,
   "id": "1564ee8f-1020-4fb0-9597-3faa88281c97",
   "metadata": {},
   "outputs": [
    {
     "name": "stdout",
     "output_type": "stream",
     "text": [
      "(400, 2)\n",
      "(400, 1)\n"
     ]
    }
   ],
   "source": [
    "print(X.shape)\n",
    "\n",
    "print(y.shape)"
   ]
  },
  {
   "cell_type": "code",
   "execution_count": 419,
   "id": "323901ab-a905-47b0-b489-bb98243c6855",
   "metadata": {},
   "outputs": [],
   "source": [
    "random_seed = int( random.random() * 100 )     ## 42\n"
   ]
  },
  {
   "cell_type": "code",
   "execution_count": 420,
   "id": "6000cd80-f442-4457-a2e3-15dcebf7b8b7",
   "metadata": {},
   "outputs": [],
   "source": [
    "X_train, X_test, y_train, y_test = train_test_split(X, y, test_size=0.2, random_state=random_seed)\n"
   ]
  },
  {
   "cell_type": "code",
   "execution_count": 421,
   "id": "a58e88af-6943-40ad-bead-3c1b75b453e2",
   "metadata": {},
   "outputs": [
    {
     "name": "stdout",
     "output_type": "stream",
     "text": [
      "(320, 2)\n",
      "(80, 2)\n",
      "(320, 1)\n",
      "(80, 1)\n"
     ]
    }
   ],
   "source": [
    "print(X_train.shape)\n",
    "print(X_test.shape)\n",
    "print(y_train.shape)\n",
    "print(y_test.shape)"
   ]
  },
  {
   "cell_type": "code",
   "execution_count": 422,
   "id": "daffb433-dad4-4244-a0f9-fde47bd15166",
   "metadata": {},
   "outputs": [
    {
     "data": {
      "text/plain": [
       "dtype('int64')"
      ]
     },
     "execution_count": 422,
     "metadata": {},
     "output_type": "execute_result"
    }
   ],
   "source": [
    "y_test.dtype \n"
   ]
  },
  {
   "cell_type": "code",
   "execution_count": 423,
   "id": "5366fb7f-f594-4a53-a2aa-ae1e9a78e895",
   "metadata": {},
   "outputs": [],
   "source": [
    "## fix data type\n",
    "\n",
    "X_train = X_train.astype(  np.float32  )\n",
    "X_test  = X_test.astype(   np.float32  )\n",
    "y_train = y_train.astype(  np.float32  )\n",
    "y_test  = y_test.astype(   np.float32  )"
   ]
  },
  {
   "cell_type": "code",
   "execution_count": 424,
   "id": "2934af1b-19a0-4707-863a-3b0ed08bfaa7",
   "metadata": {},
   "outputs": [],
   "source": [
    "X_train_tr = torch.from_numpy(X_train)\n",
    "X_test_tr  = torch.from_numpy(X_test)\n",
    "y_train_tr = torch.from_numpy(y_train)\n",
    "y_test_tr  = torch.from_numpy(y_test)"
   ]
  },
  {
   "cell_type": "code",
   "execution_count": 425,
   "id": "13cb84b5-5bce-41e9-a4b9-df00dee0bfa7",
   "metadata": {},
   "outputs": [],
   "source": [
    "x_means      = X_train_tr.mean(0, keepdim=True ) \n",
    "\n",
    "x_deviations = X_train_tr.std( 0, keepdim=True) + epsilon"
   ]
  },
  {
   "cell_type": "code",
   "execution_count": 426,
   "id": "d93c21f8-8d99-4345-b4c9-dbb9b00b83f2",
   "metadata": {},
   "outputs": [
    {
     "data": {
      "text/plain": [
       "tensor([[3.7875e+01, 7.0475e+04]])"
      ]
     },
     "execution_count": 426,
     "metadata": {},
     "output_type": "execute_result"
    }
   ],
   "source": [
    "x_means\n"
   ]
  },
  {
   "cell_type": "code",
   "execution_count": 427,
   "id": "9bcd2f23-541f-4c10-bb72-2e786bf26b42",
   "metadata": {},
   "outputs": [
    {
     "data": {
      "text/plain": [
       "tensor([[1.0560e+01, 3.4667e+04]])"
      ]
     },
     "execution_count": 427,
     "metadata": {},
     "output_type": "execute_result"
    }
   ],
   "source": [
    "x_deviations\n"
   ]
  },
  {
   "cell_type": "code",
   "execution_count": 428,
   "id": "660cad1f-121a-4bc9-b566-f87ca7e92e63",
   "metadata": {},
   "outputs": [],
   "source": [
    "train_ds = TensorDataset( X_train_tr, y_train_tr  )\n"
   ]
  },
  {
   "cell_type": "code",
   "execution_count": 429,
   "id": "bdfb3f79-58c9-4ae2-ba4d-0ea7aa042118",
   "metadata": {},
   "outputs": [],
   "source": [
    "train_dl = DataLoader( train_ds, batch_size, shuffle=True  )\n"
   ]
  },
  {
   "cell_type": "code",
   "execution_count": 430,
   "id": "a9a56406-5d52-4f11-8018-f8860af40ed1",
   "metadata": {},
   "outputs": [
    {
     "data": {
      "text/plain": [
       "<torch.utils.data.dataloader.DataLoader at 0x1fa3c247c90>"
      ]
     },
     "execution_count": 430,
     "metadata": {},
     "output_type": "execute_result"
    }
   ],
   "source": [
    "train_dl\n"
   ]
  },
  {
   "cell_type": "code",
   "execution_count": 431,
   "id": "45b6083c-0d6c-4eaa-910a-b0899f9c3108",
   "metadata": {},
   "outputs": [],
   "source": [
    "## Linear Regression\n",
    "\n",
    "class LinRegNet(nn.Module):\n",
    "    ## init the class\n",
    "    def __init__(self, x_means, x_deviations):\n",
    "        super().__init__()\n",
    "        \n",
    "        self.x_means      = x_means\n",
    "        self.x_deviations = x_deviations\n",
    "        \n",
    "        self.linear1 = nn.Linear(2, 1)\n",
    "        \n",
    "    ## perform inference\n",
    "    def forward(self, x):\n",
    "        \n",
    "        x = (x - self.x_means) / self.x_deviations\n",
    "        \n",
    "        y_pred = self.linear1(x)\n",
    "        ## return torch.round( y_pred )\n",
    "        return y_pred\n",
    "        "
   ]
  },
  {
   "cell_type": "code",
   "execution_count": 432,
   "id": "360d526c-d952-44d9-a87a-c11821c02281",
   "metadata": {},
   "outputs": [],
   "source": [
    "## MLP\n",
    "\n",
    "class MLP_Net(nn.Module):\n",
    "    ## init the class\n",
    "    def __init__(self, x_means, x_deviations):\n",
    "        super().__init__()\n",
    "        \n",
    "        self.x_means      = x_means\n",
    "        self.x_deviations = x_deviations\n",
    "        \n",
    "        self.linear1 = nn.Linear(2, 1)\n",
    "        self.act1    = nn.Sigmoid()\n",
    "        self.linear2 = nn.Linear(8, 1)\n",
    "        self.dropout = nn.Dropout(0.25)\n",
    "        \n",
    "    ## perform inference\n",
    "    def forward(self, x):\n",
    "        \n",
    "        x = (x - self.x_means) / self.x_deviations\n",
    "        \n",
    "        x = self.linear1(x)\n",
    "        x = self.act1(x)\n",
    "        x = self.dropout(x)\n",
    "        y_pred = self.linear2(x)\n",
    "        \n",
    "        ## return torch.round( y_pred )\n",
    "        return y_pred"
   ]
  },
  {
   "cell_type": "code",
   "execution_count": 433,
   "id": "47994e19-3af0-485b-860c-de79c5c0ab82",
   "metadata": {},
   "outputs": [],
   "source": [
    "## Deep Learning with 2 hidden layers\n",
    "\n",
    "class DL_Net(nn.Module):\n",
    "    ## init the class\n",
    "    def __init__(self, x_means, x_deviations):\n",
    "        super().__init__()\n",
    "        \n",
    "        self.x_means      = x_means\n",
    "        self.x_deviations = x_deviations\n",
    "        \n",
    "        self.linear1 = nn.Linear(2, 1)\n",
    "        self.act1    = nn.ReLU()\n",
    "        self.linear2 = nn.Linear(10, 6)\n",
    "        self.act2    = nn.ReLU()\n",
    "        self.linear3 = nn.Linear(6, 1)\n",
    "        self.dropout = nn.Dropout(0.25)\n",
    "        \n",
    "    ## perform inference\n",
    "    def forward(self, x):\n",
    "        \n",
    "        x = (x - self.x_means) / self.x_deviations\n",
    "        \n",
    "        x = self.linear1(x)\n",
    "        x = self.act1(x)\n",
    "        x = self.linear2(x)\n",
    "        x = self.act2(x)\n",
    "        ## x = self.dropout(x)\n",
    "        y_pred = self.linear3(x)\n",
    "        \n",
    "        ## return torch.round( y_pred )\n",
    "        return y_pred"
   ]
  },
  {
   "cell_type": "code",
   "execution_count": 434,
   "id": "20b88911-9fef-4ced-831a-f0788e618ed0",
   "metadata": {},
   "outputs": [],
   "source": [
    "## Linear plus Nonlinear\n",
    "## f1 + f2\n",
    "\n",
    "class LinearPlusNonLinear_Net(nn.Module):\n",
    "    ## init the class\n",
    "    def __init__(self, x_means, x_deviations):\n",
    "        super().__init__()\n",
    "        \n",
    "        self.x_means      = x_means\n",
    "        self.x_deviations = x_deviations\n",
    "        \n",
    "        ## F1\n",
    "        self.f1_linear1 = nn.Linear(2, 1)\n",
    "        \n",
    "        ## F2\n",
    "        self.f2_linear1 = nn.Linear(11, 14)\n",
    "        self.f2_act1    = nn.Sigmoid()\n",
    "        self.f2_linear2 = nn.Linear(14, 1)\n",
    "        \n",
    "    \n",
    "    ## perform inference\n",
    "    def forward(self, x):\n",
    "        \n",
    "        x = (x - self.x_means) / self.x_deviations\n",
    "        \n",
    "        ## F1\n",
    "        f1 = self.f1_linear(x)\n",
    "        \n",
    "        ## F2\n",
    "        f2 = self.f2_linear1(x)\n",
    "        f2 = self.f2_act1(f2)\n",
    "        f2 = self.f2_linear2(f2)\n",
    "        \n",
    "        y_pred = f1 + f2\n",
    "        \n",
    "        ## return torch.round( y_pred )\n",
    "        return y_pred"
   ]
  },
  {
   "cell_type": "code",
   "execution_count": 435,
   "id": "92d8b4e4-eedb-4d11-925f-cb996d3a633b",
   "metadata": {},
   "outputs": [],
   "source": [
    "def training_loop( N_Epochs, model, loss_fn, opt  ):\n",
    "    \n",
    "    for epoch in range(N_Epochs):\n",
    "        for xb, yb in train_dl:\n",
    "            \n",
    "            y_pred = model(xb)\n",
    "            loss   = loss_fn(y_pred, yb)\n",
    "            \n",
    "            opt.zero_grad()\n",
    "            loss.backward()\n",
    "            opt.step()\n",
    "            \n",
    "        if epoch % 20 == 0:\n",
    "            print(epoch, \"loss=\", loss)\n",
    "            "
   ]
  },
  {
   "cell_type": "code",
   "execution_count": 436,
   "id": "602a4d44-8ea1-4152-9b12-d9e7895d84cd",
   "metadata": {},
   "outputs": [],
   "source": [
    "import torch\n",
    "import torch.nn as nn\n",
    "import torch.nn.functional as F\n",
    "\n",
    "class DL_Net(nn.Module):\n",
    "    def __init__(self, x_means, x_deviations):\n",
    "        super(DL_Net, self).__init__()\n",
    "        self.x_means = x_means\n",
    "        self.x_deviations = x_deviations\n",
    "        self.linear1 = nn.Linear(len(x_means), 64)\n",
    "        self.linear2 = nn.Linear(64, 1)\n",
    "        self.act1 = nn.ReLU()\n",
    "\n",
    "    def forward(self, x):\n",
    "        # Ensure x_means and x_deviations are tensors\n",
    "        x_means_tensor = torch.tensor(self.x_means, dtype=torch.float32)\n",
    "        x_deviations_tensor = torch.tensor(self.x_deviations, dtype=torch.float32)\n",
    "        \n",
    "        # Normalize input x\n",
    "        x_normalized = (x - x_means_tensor) / x_deviations_tensor\n",
    "        \n",
    "        # Apply linear -> activation -> linear\n",
    "        x = self.linear1(x_normalized)\n",
    "        x = self.act1(x)\n",
    "        x = self.linear2(x)\n",
    "        return torch.sigmoid(x)  # Apply sigmoid for binary classification\n"
   ]
  },
  {
   "cell_type": "code",
   "execution_count": 437,
   "id": "56da9021-5d4f-4a8c-9e91-094507ad004e",
   "metadata": {},
   "outputs": [],
   "source": [
    "import torch\n",
    "import torch.nn as nn\n",
    "import torch.nn.functional as F\n",
    "\n",
    "class DL_Net(nn.Module):\n",
    "    def __init__(self, x_means, x_deviations):\n",
    "        super(DL_Net, self).__init__()\n",
    "        self.x_means = x_means\n",
    "        self.x_deviations = x_deviations\n",
    "        self.linear1 = nn.Linear(len(x_means), 64)\n",
    "        self.linear2 = nn.Linear(64, 1)\n",
    "        self.act1 = nn.ReLU()\n",
    "\n",
    "    def forward(self, x):\n",
    "        # Ensure x_means and x_deviations are tensors\n",
    "        x_means_tensor = torch.tensor(self.x_means, dtype=torch.float32)\n",
    "        x_deviations_tensor = torch.tensor(self.x_deviations, dtype=torch.float32)\n",
    "\n",
    "        print(\"x shape:\", x.shape)\n",
    "        print(\"x_means shape:\", x_means_tensor.shape)\n",
    "        print(\"x_deviations shape:\", x_deviations_tensor.shape)\n",
    "        \n",
    "        # Normalize input x\n",
    "        x_normalized = (x - x_means_tensor) / x_deviations_tensor\n",
    "        \n",
    "        print(\"x_normalized shape:\", x_normalized.shape)\n",
    "        \n",
    "        # Apply linear -> activation -> linear\n",
    "        x = self.linear1(x_normalized)\n",
    "        x = self.act1(x)\n",
    "        x = self.linear2(x)\n",
    "        return torch.sigmoid(x)  # Apply sigmoid for binary classification\n"
   ]
  },
  {
   "cell_type": "code",
   "execution_count": 438,
   "id": "e629767e-9426-446b-8fb5-664781d7ddf9",
   "metadata": {},
   "outputs": [],
   "source": [
    "class DL_Net(nn.Module):\n",
    "    def __init__(self, x_means, x_deviations):\n",
    "        super(DL_Net, self).__init__()\n",
    "        self.x_means = nn.Parameter(x_means)  # Assuming x_means is a tensor\n",
    "        self.x_deviations = nn.Parameter(x_deviations)  # Assuming x_deviations is a tensor\n",
    "        self.linear1 = nn.Linear(in_features, hidden_size)\n",
    "        self.act1 = nn.ReLU()\n",
    "        self.linear2 = nn.Linear(hidden_size, out_features)\n",
    "    \n",
    "    def forward(self, x):\n",
    "        print(\"Shape of x:\", x.shape)\n",
    "        print(\"Shape of self.x_means:\", self.x_means.shape)\n",
    "        print(\"Shape of self.x_deviations:\", self.x_deviations.shape)\n",
    "        \n",
    "        # Check if shapes match for element-wise operations\n",
    "        assert x.shape == self.x_means.shape == self.x_deviations.shape, \"Shape mismatch\"\n",
    "        \n",
    "        # Perform normalization and forward pass\n",
    "        x_normalized = (x - self.x_means) / self.x_deviations\n",
    "        x = self.act1(self.linear1(x_normalized))\n",
    "        x = self.linear2(x)\n",
    "        \n",
    "        return x\n",
    "\n"
   ]
  },
  {
   "cell_type": "code",
   "execution_count": 439,
   "id": "58bc3b83-3a95-4272-b080-00b4b23cbda6",
   "metadata": {},
   "outputs": [],
   "source": [
    "## y_pred_test\n"
   ]
  },
  {
   "cell_type": "code",
   "execution_count": 440,
   "id": "5c466ab6-b23e-4f66-9e92-62f519802279",
   "metadata": {},
   "outputs": [],
   "source": [
    "import torch.nn as nn\n",
    "import torch.nn.functional as F\n",
    "\n",
    "class DL_Net(nn.Module):\n",
    "    def __init__(self, x_means, x_deviations):\n",
    "        super(DL_Net, self).__init__()\n",
    "        self.x_means = nn.Parameter(torch.tensor(x_means), requires_grad=False)\n",
    "        self.x_deviations = nn.Parameter(torch.tensor(x_deviations), requires_grad=False)\n",
    "        self.linear1 = nn.Linear(input_size, hidden_size)\n",
    "        self.act1 = nn.ReLU()\n",
    "        self.linear2 = nn.Linear(hidden_size, output_size)\n",
    "\n",
    "    def forward(self, x):\n",
    "        # Normalize input using x_means and x_deviations\n",
    "        x = (x - self.x_means) / self.x_deviations\n",
    "        x = self.act1(self.linear1(x))\n",
    "        x = self.linear2(x)\n",
    "        return x\n",
    "\n"
   ]
  },
  {
   "cell_type": "code",
   "execution_count": 441,
   "id": "31bb1fe8-3beb-4978-9436-b345ff7e059f",
   "metadata": {},
   "outputs": [],
   "source": [
    "class DL_Net(nn.Module):\n",
    "    def __init__(self, x_means, x_deviations):\n",
    "        super(DL_Net, self).__init__()\n",
    "        self.x_means = nn.Parameter(torch.tensor(x_means))\n",
    "        self.x_deviations = nn.Parameter(torch.tensor(x_deviations))\n",
    "        # Define your model layers here\n",
    "\n",
    "    def forward(self, x):\n",
    "        # Normalize input tensor 'x' using x_means and x_deviations\n",
    "        normalized_x = (x - self.x_means) / self.x_deviations\n",
    "        # Pass through model layers\n",
    "        # Example: normalized_x = self.conv1(normalized_x)\n",
    "        #          normalized_x = self.relu(normalized_x)\n",
    "        return normalized_x\n",
    "\n"
   ]
  },
  {
   "cell_type": "code",
   "execution_count": 442,
   "id": "8c83ac1d-7d11-4118-ba9e-8fde07613f38",
   "metadata": {},
   "outputs": [
    {
     "data": {
      "text/plain": [
       "torch.Size([80, 1])"
      ]
     },
     "execution_count": 442,
     "metadata": {},
     "output_type": "execute_result"
    }
   ],
   "source": [
    "y_test_tr.shape\n"
   ]
  },
  {
   "cell_type": "code",
   "execution_count": 443,
   "id": "2a22a48a-eba7-4b0c-9964-6a40ce6fc2ca",
   "metadata": {},
   "outputs": [
    {
     "data": {
      "text/plain": [
       "80"
      ]
     },
     "execution_count": 443,
     "metadata": {},
     "output_type": "execute_result"
    }
   ],
   "source": [
    "len(X_test_tr)\n"
   ]
  },
  {
   "cell_type": "code",
   "execution_count": 444,
   "id": "35780354-e147-4299-be35-183cf4755e2b",
   "metadata": {},
   "outputs": [],
   "source": [
    "class DL_Net(nn.Module):\n",
    "    def __init__(self, x_means, x_deviations):\n",
    "        super(DL_Net, self).__init__()\n",
    "        self.x_means = torch.tensor(x_means)  # Assuming x_means is a numpy array or list\n",
    "        self.x_deviations = torch.tensor(x_deviations)  # Assuming x_deviations is a numpy array or list\n",
    "        self.linear1 = nn.Linear(input_size, hidden_size)\n",
    "        self.act1 = nn.ReLU()\n",
    "        self.linear2 = nn.Linear(hidden_size, output_size)\n",
    "\n",
    "    def forward(self, x):\n",
    "        print(\"Input shape:\", x.shape)\n",
    "        print(\"Means shape:\", self.x_means.shape)\n",
    "        print(\"Deviations shape:\", self.x_deviations.shape)\n",
    "        \n",
    "        x = (x - self.x_means) / self.x_deviations  # Check shapes and types here\n",
    "        print(\"Transformed input shape:\", x.shape)\n",
    "        \n",
    "        x = self.act1(self.linear1(x))\n",
    "        x = self.linear2(x)\n",
    "        return x\n",
    "\n"
   ]
  },
  {
   "cell_type": "code",
   "execution_count": 445,
   "id": "942949a6-66fb-4b18-93ab-ef976d984674",
   "metadata": {},
   "outputs": [],
   "source": [
    "class DL_Net(nn.Module):\n",
    "    def __init__(self, x_means, x_deviations):\n",
    "        super(DL_Net, self).__init__()\n",
    "        self.x_means = torch.tensor(x_means)\n",
    "        self.x_deviations = torch.tensor(x_deviations)\n",
    "        self.linear1 = nn.Linear(input_size, hidden_size)\n",
    "        self.act1 = nn.ReLU()\n",
    "        self.linear2 = nn.Linear(hidden_size, output_size)\n",
    "\n",
    "    def forward(self, x):\n",
    "        print(\"Input shape:\", x.shape)\n",
    "        print(\"Means shape:\", self.x_means.shape)\n",
    "        print(\"Deviations shape:\", self.x_deviations.shape)\n",
    "\n",
    "        x = (x - self.x_means) / self.x_deviations  # Check shapes and types here\n",
    "        print(\"Transformed input shape:\", x.shape)\n",
    "\n",
    "        x = self.act1(self.linear1(x))\n",
    "        x = self.linear2(x)\n",
    "        return x\n"
   ]
  },
  {
   "cell_type": "code",
   "execution_count": null,
   "id": "987c29ee-9907-49c4-80f3-0af2dc7fc2cd",
   "metadata": {},
   "outputs": [],
   "source": []
  },
  {
   "cell_type": "code",
   "execution_count": 446,
   "id": "dc12a40f-1779-44da-ba4e-3bd7b8fc61dc",
   "metadata": {},
   "outputs": [
    {
     "name": "stdout",
     "output_type": "stream",
     "text": [
      "Shape of data: (400, 3)\n",
      "Columns of data: Index(['Age', 'Salary', 'Purchased'], dtype='object')\n",
      "NaN values in X: False\n",
      "NaN values in y: False\n",
      "Root Mean Squared Error: 0.3127700408045913\n"
     ]
    }
   ],
   "source": [
    "import pandas as pd\n",
    "import numpy as np\n",
    "from sklearn.model_selection import train_test_split\n",
    "from sklearn.metrics import mean_squared_error\n",
    "\n",
    "# Load data from CSV file\n",
    "data = pd.read_csv('C:/Users/Conno/Dropbox/SocialAds/social_ads.csv')\n",
    "\n",
    "# Display basic information about the data\n",
    "print(\"Shape of data:\", data.shape)\n",
    "print(\"Columns of data:\", data.columns)\n",
    "\n",
    "# Assuming 'Purchased' is the target column\n",
    "target_column_name = 'Purchased'\n",
    "\n",
    "# Separate features (X) and target variable (y)\n",
    "X = data.drop(columns=[target_column_name])\n",
    "y = data[target_column_name]\n",
    "\n",
    "# Check for and handle missing values\n",
    "print(\"NaN values in X:\", X.isnull().sum().any())\n",
    "print(\"NaN values in y:\", y.isnull().sum().any())\n",
    "\n",
    "# Split data into training and test sets\n",
    "X_train, X_test, y_train, y_test = train_test_split(X, y, test_size=0.2, random_state=42)\n",
    "\n",
    "\n",
    "# Fit the regressor to the training data\n",
    "regressor.fit(X_train, y_train)\n",
    "\n",
    "# Make predictions on the test data\n",
    "y_pred = regressor.predict(X_test)\n",
    "\n",
    "# Evaluate the model (e.g., using RMSE)\n",
    "rmse = np.sqrt(mean_squared_error(y_test, y_pred))\n",
    "print(\"Root Mean Squared Error:\", rmse)\n"
   ]
  },
  {
   "cell_type": "code",
   "execution_count": 447,
   "id": "0689d27c-f387-49c0-9042-7d57a060315a",
   "metadata": {},
   "outputs": [
    {
     "data": {
      "text/plain": [
       "(80,)"
      ]
     },
     "execution_count": 447,
     "metadata": {},
     "output_type": "execute_result"
    }
   ],
   "source": [
    "y_pred.shape\n"
   ]
  },
  {
   "cell_type": "code",
   "execution_count": 448,
   "id": "4f88080e-1e69-42a9-a1a2-b0a84dc9c423",
   "metadata": {},
   "outputs": [
    {
     "data": {
      "text/plain": [
       "array([ 0.9788181 ,  1.0722193 , -0.01612116,  0.6916023 ,  0.00269255,\n",
       "       -0.00364683,  0.9297528 , -0.04941066,  0.17307119, -0.05790855,\n",
       "       -0.06412283,  1.0540602 , -0.04901338,  0.00269255,  0.10731786,\n",
       "        0.9942297 ,  0.6938482 ,  0.3698316 ,  0.01365973,  0.90472746,\n",
       "        0.00269255,  0.041746  ,  0.9713406 ,  0.2040061 ,  0.00269255,\n",
       "        0.6652461 ,  0.37050566,  0.04806327,  1.0379676 ,  0.00269255,\n",
       "        0.5294752 ,  0.5723103 ,  0.9568511 ,  0.11018369,  1.0043905 ,\n",
       "        0.02883751,  0.04806327, -0.10905139,  0.00269255,  0.00910813,\n",
       "        0.99111354, -0.00802351, -0.00802351,  0.9713406 ,  0.04808855,\n",
       "        0.6999848 ,  0.00196839,  0.05515093,  0.56463146, -0.01154778,\n",
       "        0.11018369,  0.5426277 , -0.05320102,  0.041746  ,  0.1707659 ,\n",
       "        0.00269255,  1.0148808 ,  1.0309137 , -0.00744616,  0.01304145,\n",
       "        0.18484534, -0.00827249,  0.62935805,  0.10615599, -0.00802351,\n",
       "        1.0251864 ,  0.49506772,  0.8921049 ,  0.00698317,  0.8300236 ,\n",
       "        0.7710276 , -0.0023746 , -0.00802351,  0.00269255,  0.94847995,\n",
       "        0.04783957,  0.40469512,  1.0770775 , -0.04926236,  0.08004865],\n",
       "      dtype=float32)"
      ]
     },
     "execution_count": 448,
     "metadata": {},
     "output_type": "execute_result"
    }
   ],
   "source": [
    "y_pred\n"
   ]
  },
  {
   "cell_type": "code",
   "execution_count": 449,
   "id": "8659df5c-ddcb-40be-a1ce-4cdeaa008e63",
   "metadata": {},
   "outputs": [
    {
     "data": {
      "text/plain": [
       "0.5699995673630518"
      ]
     },
     "execution_count": 449,
     "metadata": {},
     "output_type": "execute_result"
    }
   ],
   "source": [
    "r2_score(y_test, y_pred)\n"
   ]
  },
  {
   "cell_type": "code",
   "execution_count": 450,
   "id": "24a2cdd8-ffc9-4cb2-b0af-622bfadb37fa",
   "metadata": {},
   "outputs": [],
   "source": [
    "initial_types = [(\n",
    "          'float_input',\n",
    "          FloatTensorType(  [None, 2 ]  )\n",
    "\n",
    ")]"
   ]
  },
  {
   "cell_type": "code",
   "execution_count": null,
   "id": "98bf20f9-5454-4106-ba63-47298171cb6b",
   "metadata": {},
   "outputs": [],
   "source": []
  },
  {
   "cell_type": "code",
   "execution_count": 451,
   "id": "f94d0a39-c791-453e-8979-875d34ebdab0",
   "metadata": {},
   "outputs": [
    {
     "name": "stdout",
     "output_type": "stream",
     "text": [
      "Root Mean Squared Error: 0.3127700408045913\n"
     ]
    }
   ],
   "source": [
    "import pandas as pd\n",
    "import numpy as np\n",
    "from sklearn.model_selection import train_test_split\n",
    "from sklearn.metrics import mean_squared_error\n",
    "import onnxmltools\n",
    "from onnxmltools.convert.common.data_types import FloatTensorType\n",
    "\n",
    "# Load data from CSV file\n",
    "data = pd.read_csv('C:/Users/Conno/Dropbox/SocialAds/social_ads.csv')\n",
    "\n",
    "# Assuming 'Purchased' is the target column\n",
    "target_column_name = 'Purchased'\n",
    "\n",
    "# Separate features (X) and target variable (y)\n",
    "X = data.drop(columns=[target_column_name])\n",
    "y = data[target_column_name]\n",
    "\n",
    "# Rename columns to match 'f%d' pattern for ONNX compatibility\n",
    "X.columns = ['f{}'.format(i) for i in range(len(X.columns))]\n",
    "\n",
    "# Split data into training and test sets\n",
    "X_train, X_test, y_train, y_test = train_test_split(X, y, test_size=0.2, random_state=42)\n",
    "\n",
    "\n",
    "# Fit the regressor to the training data\n",
    "regressor.fit(X_train, y_train)\n",
    "\n",
    "# Make predictions on the test data\n",
    "y_pred = regressor.predict(X_test)\n",
    "\n",
    "# Evaluate the model (e.g., using RMSE)\n",
    "rmse = np.sqrt(mean_squared_error(y_test, y_pred))\n",
    "print(\"Root Mean Squared Error:\", rmse)\n",
    "\n",
    "# Specify the initial types for input data (X_test)\n",
    "initial_type = [('float_input', FloatTensorType([None, X_test.shape[1]]))]\n",
    "\n",
    "\n",
    "\n"
   ]
  },
  {
   "cell_type": "code",
   "execution_count": null,
   "id": "88d363b9-c723-4216-b264-0f2cb62065c6",
   "metadata": {},
   "outputs": [],
   "source": []
  },
  {
   "cell_type": "code",
   "execution_count": 452,
   "id": "37cf8681-619b-437f-ae52-a985d664a0df",
   "metadata": {},
   "outputs": [],
   "source": [
    "input_name = sess.get_inputs()[0].name\n"
   ]
  },
  {
   "cell_type": "code",
   "execution_count": 453,
   "id": "47d96b87-6076-4b3f-800f-4ed95338097c",
   "metadata": {},
   "outputs": [
    {
     "data": {
      "text/plain": [
       "'float_input'"
      ]
     },
     "execution_count": 453,
     "metadata": {},
     "output_type": "execute_result"
    }
   ],
   "source": [
    "input_name\n"
   ]
  },
  {
   "cell_type": "code",
   "execution_count": 454,
   "id": "2c3b3904-7f65-4c82-a21a-621f5d6bdfd4",
   "metadata": {},
   "outputs": [],
   "source": [
    "label_name = sess.get_outputs()[0].name\n"
   ]
  },
  {
   "cell_type": "code",
   "execution_count": 455,
   "id": "4c883afc-4d3e-4dc6-a911-6d05e2d2f2eb",
   "metadata": {},
   "outputs": [
    {
     "data": {
      "text/plain": [
       "'variable'"
      ]
     },
     "execution_count": 455,
     "metadata": {},
     "output_type": "execute_result"
    }
   ],
   "source": [
    "label_name\n"
   ]
  },
  {
   "cell_type": "code",
   "execution_count": 456,
   "id": "4f7ad18c-5677-4ae1-a439-78001e864dcd",
   "metadata": {},
   "outputs": [],
   "source": [
    "import numpy as np\n",
    "import onnxruntime as ort\n",
    "\n",
    "# Assuming you have already loaded the ONNX model and defined 'sess' and 'input_name' variables\n",
    "\n",
    "# Convert the input data to the correct format (list of dictionaries)\n",
    "input_data = {input_name: X_test.values.astype(np.float32)}\n",
    "\n",
    "# Run inference using the ONNX runtime session\n",
    "pred_ort = sess.run([], input_data)\n"
   ]
  },
  {
   "cell_type": "code",
   "execution_count": 457,
   "id": "6f9026ef-8e6d-4eca-8703-7fca0aa8c98f",
   "metadata": {},
   "outputs": [
    {
     "data": {
      "text/plain": [
       "array([[ 0.97881824],\n",
       "       [ 1.0722198 ],\n",
       "       [-0.01612118],\n",
       "       [ 0.69160265],\n",
       "       [ 0.00269258],\n",
       "       [-0.00364685],\n",
       "       [ 0.92975307],\n",
       "       [-0.04941067],\n",
       "       [ 0.17307116],\n",
       "       [-0.05790854],\n",
       "       [-0.06412286],\n",
       "       [ 1.0540606 ],\n",
       "       [-0.04901338],\n",
       "       [ 0.00269258],\n",
       "       [ 0.10731781],\n",
       "       [ 0.99423003],\n",
       "       [ 0.69384825],\n",
       "       [ 0.36983162],\n",
       "       [ 0.01365972],\n",
       "       [ 0.9047274 ],\n",
       "       [ 0.00269258],\n",
       "       [ 0.04174599],\n",
       "       [ 0.97134066],\n",
       "       [ 0.20400605],\n",
       "       [ 0.00269258],\n",
       "       [ 0.66524625],\n",
       "       [ 0.37050563],\n",
       "       [ 0.04806331],\n",
       "       [ 1.0379674 ],\n",
       "       [ 0.00269258],\n",
       "       [ 0.5294752 ],\n",
       "       [ 0.5723105 ],\n",
       "       [ 0.9568512 ],\n",
       "       [ 0.11018369],\n",
       "       [ 1.0043905 ],\n",
       "       [ 0.0288375 ],\n",
       "       [ 0.04806331],\n",
       "       [-0.10905135],\n",
       "       [ 0.00269258],\n",
       "       [ 0.0091081 ],\n",
       "       [ 0.99111396],\n",
       "       [-0.00802353],\n",
       "       [-0.00802353],\n",
       "       [ 0.97134066],\n",
       "       [ 0.04808855],\n",
       "       [ 0.6999849 ],\n",
       "       [ 0.00196835],\n",
       "       [ 0.05515099],\n",
       "       [ 0.56463146],\n",
       "       [-0.0115478 ],\n",
       "       [ 0.11018369],\n",
       "       [ 0.5426278 ],\n",
       "       [-0.05320099],\n",
       "       [ 0.04174599],\n",
       "       [ 0.1707659 ],\n",
       "       [ 0.00269258],\n",
       "       [ 1.0148811 ],\n",
       "       [ 1.0309135 ],\n",
       "       [-0.00744614],\n",
       "       [ 0.01304147],\n",
       "       [ 0.18484533],\n",
       "       [-0.0082725 ],\n",
       "       [ 0.6293583 ],\n",
       "       [ 0.10615593],\n",
       "       [-0.00802353],\n",
       "       [ 1.0251863 ],\n",
       "       [ 0.4950676 ],\n",
       "       [ 0.89210516],\n",
       "       [ 0.00698319],\n",
       "       [ 0.83002365],\n",
       "       [ 0.7710276 ],\n",
       "       [-0.00237462],\n",
       "       [-0.00802353],\n",
       "       [ 0.00269258],\n",
       "       [ 0.94848   ],\n",
       "       [ 0.04783958],\n",
       "       [ 0.40469527],\n",
       "       [ 1.0770779 ],\n",
       "       [-0.04926237],\n",
       "       [ 0.08004865]], dtype=float32)"
      ]
     },
     "execution_count": 457,
     "metadata": {},
     "output_type": "execute_result"
    }
   ],
   "source": [
    "pred_ort[0]\n"
   ]
  },
  {
   "cell_type": "code",
   "execution_count": 458,
   "id": "96fa0a4d-1a71-4b39-a452-99f6b415dbfe",
   "metadata": {},
   "outputs": [
    {
     "name": "stdout",
     "output_type": "stream",
     "text": [
      "Root Mean Squared Error (RMSE): 0.3127700408045913\n",
      "R-squared (R2): 0.5699995673630518\n",
      "Mean Absolute Error (MAE): 0.17246147679397836\n"
     ]
    },
    {
     "data": {
      "image/png": "[encoded data removed]",
      "text/plain": [
       "<Figure size 800x600 with 1 Axes>"
      ]
     },
     "metadata": {},
     "output_type": "display_data"
    }
   ],
   "source": [
    "import pandas as pd\n",
    "import numpy as np\n",
    "from sklearn.model_selection import train_test_split\n",
    "from sklearn.metrics import mean_squared_error, r2_score, mean_absolute_error\n",
    "import matplotlib.pyplot as plt\n",
    "\n",
    "# Load data from CSV file\n",
    "data = pd.read_csv('C:/Users/Conno/Dropbox/SocialAds/social_ads.csv')\n",
    "\n",
    "# Assuming 'Purchased' is the target column\n",
    "target_column_name = 'Purchased'\n",
    "\n",
    "# Separate features (X) and target variable (y)\n",
    "X = data.drop(columns=[target_column_name])\n",
    "y = data[target_column_name]\n",
    "\n",
    "# Split data into training and test sets\n",
    "X_train, X_test, y_train, y_test = train_test_split(X, y, test_size=0.2, random_state=42)\n",
    "\n",
    "\n",
    "\n",
    "# Fit the regressor to the training data\n",
    "regressor.fit(X_train, y_train)\n",
    "\n",
    "# Make predictions on the test data\n",
    "y_pred = regressor.predict(X_test)\n",
    "\n",
    "# Evaluate the model\n",
    "rmse = np.sqrt(mean_squared_error(y_test, y_pred))\n",
    "r2 = r2_score(y_test, y_pred)\n",
    "mae = mean_absolute_error(y_test, y_pred)\n",
    "\n",
    "print(\"Root Mean Squared Error (RMSE):\", rmse)\n",
    "print(\"R-squared (R2):\", r2)\n",
    "print(\"Mean Absolute Error (MAE):\", mae)\n",
    "\n",
    "# Plot actual vs. predicted values\n",
    "plt.figure(figsize=(8, 6))\n",
    "plt.scatter(y_test, y_pred, color='blue', alpha=0.5)\n",
    "plt.plot([min(y_test), max(y_test)], [min(y_test), max(y_test)], linestyle='--', color='red')\n",
    "plt.xlabel(\"Actual values\")\n",
    "plt.ylabel(\"Predicted values\")\n",
    "plt.title(\"Actual vs. Predicted values\")\n",
    "plt.show()\n"
   ]
  },
  {
   "cell_type": "code",
   "execution_count": null,
   "id": "072b2501-94d3-4e4d-be02-7c833d34ae9b",
   "metadata": {},
   "outputs": [],
   "source": []
  },
  {
   "cell_type": "code",
   "execution_count": null,
   "id": "0f1f37b6-d5e7-41a1-8945-009eb104122b",
   "metadata": {},
   "outputs": [],
   "source": []
  },
  {
   "cell_type": "code",
   "execution_count": null,
   "id": "2a2d7aa3-6987-471f-9046-fa788f165d47",
   "metadata": {},
   "outputs": [],
   "source": []
  },
  {
   "cell_type": "code",
   "execution_count": null,
   "id": "552209d9-afa4-4788-a775-e4e6535d8f4d",
   "metadata": {},
   "outputs": [],
   "source": []
  },
  {
   "cell_type": "code",
   "execution_count": null,
   "id": "2ba835d9-b19e-4e7b-a69a-00a60436efaf",
   "metadata": {},
   "outputs": [],
   "source": []
  },
  {
   "cell_type": "code",
   "execution_count": null,
   "id": "adc47cb3-05d7-45cc-b527-7b11d74c05c3",
   "metadata": {},
   "outputs": [],
   "source": []
  },
  {
   "cell_type": "code",
   "execution_count": null,
   "id": "3c7177c3-35b7-486b-8acb-70bcd5434d16",
   "metadata": {},
   "outputs": [],
   "source": []
  },
  {
   "cell_type": "code",
   "execution_count": null,
   "id": "d5704310-bc74-4c0d-80fb-526b82927d60",
   "metadata": {},
   "outputs": [],
   "source": []
  },
  {
   "cell_type": "code",
   "execution_count": null,
   "id": "82766114-bab0-4890-aa36-84a98bfd4038",
   "metadata": {},
   "outputs": [],
   "source": []
  },
  {
   "cell_type": "code",
   "execution_count": null,
   "id": "f8b56a9f-4a47-4e7e-a01e-163dec9502ef",
   "metadata": {},
   "outputs": [],
   "source": []
  }
 ],
 "metadata": {
  "kernelspec": {
   "display_name": "Python 3 (ipykernel)",
   "language": "python",
   "name": "python3"
  },
  "language_info": {
   "codemirror_mode": {
    "name": "ipython",
    "version": 3
   },
   "file_extension": ".py",
   "mimetype": "text/x-python",
   "name": "python",
   "nbconvert_exporter": "python",
   "pygments_lexer": "ipython3",
   "version": "3.11.7"
  }
 },
 "nbformat": 4,
 "nbformat_minor": 5
}
