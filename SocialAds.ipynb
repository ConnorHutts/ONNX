{
 "cells": [
  {
   "cell_type": "code",
   "execution_count": 247,
   "id": "bfce7216-3ad6-4660-93b4-81688d30da45",
   "metadata": {},
   "outputs": [
    {
     "name": "stdout",
     "output_type": "stream",
     "text": [
      "Requirement already satisfied: mlxtend in c:\\users\\conno\\anaconda3\\lib\\site-packages (0.23.1)\n",
      "Requirement already satisfied: scipy>=1.2.1 in c:\\users\\conno\\anaconda3\\lib\\site-packages (from mlxtend) (1.11.4)\n",
      "Requirement already satisfied: numpy>=1.16.2 in c:\\users\\conno\\anaconda3\\lib\\site-packages (from mlxtend) (1.26.4)\n",
      "Requirement already satisfied: pandas>=0.24.2 in c:\\users\\conno\\anaconda3\\lib\\site-packages (from mlxtend) (2.1.4)\n",
      "Requirement already satisfied: scikit-learn>=1.0.2 in c:\\users\\conno\\anaconda3\\lib\\site-packages (from mlxtend) (1.2.2)\n",
      "Requirement already satisfied: matplotlib>=3.0.0 in c:\\users\\conno\\anaconda3\\lib\\site-packages (from mlxtend) (3.8.0)\n",
      "Requirement already satisfied: joblib>=0.13.2 in c:\\users\\conno\\anaconda3\\lib\\site-packages (from mlxtend) (1.2.0)\n",
      "Requirement already satisfied: contourpy>=1.0.1 in c:\\users\\conno\\anaconda3\\lib\\site-packages (from matplotlib>=3.0.0->mlxtend) (1.2.0)\n",
      "Requirement already satisfied: cycler>=0.10 in c:\\users\\conno\\anaconda3\\lib\\site-packages (from matplotlib>=3.0.0->mlxtend) (0.11.0)\n",
      "Requirement already satisfied: fonttools>=4.22.0 in c:\\users\\conno\\anaconda3\\lib\\site-packages (from matplotlib>=3.0.0->mlxtend) (4.25.0)\n",
      "Requirement already satisfied: kiwisolver>=1.0.1 in c:\\users\\conno\\anaconda3\\lib\\site-packages (from matplotlib>=3.0.0->mlxtend) (1.4.4)\n",
      "Requirement already satisfied: packaging>=20.0 in c:\\users\\conno\\anaconda3\\lib\\site-packages (from matplotlib>=3.0.0->mlxtend) (23.1)\n",
      "Requirement already satisfied: pillow>=6.2.0 in c:\\users\\conno\\anaconda3\\lib\\site-packages (from matplotlib>=3.0.0->mlxtend) (10.2.0)\n",
      "Requirement already satisfied: pyparsing>=2.3.1 in c:\\users\\conno\\anaconda3\\lib\\site-packages (from matplotlib>=3.0.0->mlxtend) (3.0.9)\n",
      "Requirement already satisfied: python-dateutil>=2.7 in c:\\users\\conno\\anaconda3\\lib\\site-packages (from matplotlib>=3.0.0->mlxtend) (2.8.2)\n",
      "Requirement already satisfied: pytz>=2020.1 in c:\\users\\conno\\anaconda3\\lib\\site-packages (from pandas>=0.24.2->mlxtend) (2023.3.post1)\n",
      "Requirement already satisfied: tzdata>=2022.1 in c:\\users\\conno\\anaconda3\\lib\\site-packages (from pandas>=0.24.2->mlxtend) (2023.3)\n",
      "Requirement already satisfied: threadpoolctl>=2.0.0 in c:\\users\\conno\\anaconda3\\lib\\site-packages (from scikit-learn>=1.0.2->mlxtend) (2.2.0)\n",
      "Requirement already satisfied: six>=1.5 in c:\\users\\conno\\anaconda3\\lib\\site-packages (from python-dateutil>=2.7->matplotlib>=3.0.0->mlxtend) (1.16.0)\n",
      "Requirement already satisfied: onnxmltools in c:\\users\\conno\\anaconda3\\lib\\site-packages (1.12.0)\n",
      "Requirement already satisfied: numpy in c:\\users\\conno\\anaconda3\\lib\\site-packages (from onnxmltools) (1.26.4)\n",
      "Requirement already satisfied: onnx in c:\\users\\conno\\anaconda3\\lib\\site-packages (from onnxmltools) (1.16.0)\n",
      "Requirement already satisfied: protobuf>=3.20.2 in c:\\users\\conno\\anaconda3\\lib\\site-packages (from onnx->onnxmltools) (3.20.2)\n",
      "Requirement already satisfied: onnxruntime in c:\\users\\conno\\anaconda3\\lib\\site-packages (1.17.3)\n",
      "Requirement already satisfied: coloredlogs in c:\\users\\conno\\anaconda3\\lib\\site-packages (from onnxruntime) (15.0.1)\n",
      "Requirement already satisfied: flatbuffers in c:\\users\\conno\\anaconda3\\lib\\site-packages (from onnxruntime) (24.3.25)\n",
      "Requirement already satisfied: numpy>=1.24.2 in c:\\users\\conno\\anaconda3\\lib\\site-packages (from onnxruntime) (1.26.4)\n",
      "Requirement already satisfied: packaging in c:\\users\\conno\\anaconda3\\lib\\site-packages (from onnxruntime) (23.1)\n",
      "Requirement already satisfied: protobuf in c:\\users\\conno\\anaconda3\\lib\\site-packages (from onnxruntime) (3.20.2)\n",
      "Requirement already satisfied: sympy in c:\\users\\conno\\anaconda3\\lib\\site-packages (from onnxruntime) (1.12)\n",
      "Requirement already satisfied: humanfriendly>=9.1 in c:\\users\\conno\\anaconda3\\lib\\site-packages (from coloredlogs->onnxruntime) (10.0)\n",
      "Requirement already satisfied: mpmath>=0.19 in c:\\users\\conno\\anaconda3\\lib\\site-packages (from sympy->onnxruntime) (1.3.0)\n",
      "Requirement already satisfied: pyreadline3 in c:\\users\\conno\\anaconda3\\lib\\site-packages (from humanfriendly>=9.1->coloredlogs->onnxruntime) (3.4.1)\n",
      "Requirement already satisfied: torch in c:\\users\\conno\\anaconda3\\lib\\site-packages (2.3.0)\n",
      "Requirement already satisfied: torchvision in c:\\users\\conno\\anaconda3\\lib\\site-packages (0.18.0)\n",
      "Requirement already satisfied: torchaudio in c:\\users\\conno\\anaconda3\\lib\\site-packages (2.3.0)\n",
      "Requirement already satisfied: filelock in c:\\users\\conno\\anaconda3\\lib\\site-packages (from torch) (3.13.1)\n",
      "Requirement already satisfied: typing-extensions>=4.8.0 in c:\\users\\conno\\anaconda3\\lib\\site-packages (from torch) (4.9.0)\n",
      "Requirement already satisfied: sympy in c:\\users\\conno\\anaconda3\\lib\\site-packages (from torch) (1.12)\n",
      "Requirement already satisfied: networkx in c:\\users\\conno\\anaconda3\\lib\\site-packages (from torch) (3.1)\n",
      "Requirement already satisfied: jinja2 in c:\\users\\conno\\anaconda3\\lib\\site-packages (from torch) (3.1.3)\n",
      "Requirement already satisfied: fsspec in c:\\users\\conno\\anaconda3\\lib\\site-packages (from torch) (2023.10.0)\n",
      "Requirement already satisfied: mkl<=2021.4.0,>=2021.1.1 in c:\\users\\conno\\anaconda3\\lib\\site-packages (from torch) (2021.4.0)\n",
      "Requirement already satisfied: numpy in c:\\users\\conno\\anaconda3\\lib\\site-packages (from torchvision) (1.26.4)\n",
      "Requirement already satisfied: pillow!=8.3.*,>=5.3.0 in c:\\users\\conno\\anaconda3\\lib\\site-packages (from torchvision) (10.2.0)\n",
      "Requirement already satisfied: intel-openmp==2021.* in c:\\users\\conno\\anaconda3\\lib\\site-packages (from mkl<=2021.4.0,>=2021.1.1->torch) (2021.4.0)\n",
      "Requirement already satisfied: tbb==2021.* in c:\\users\\conno\\anaconda3\\lib\\site-packages (from mkl<=2021.4.0,>=2021.1.1->torch) (2021.12.0)\n",
      "Requirement already satisfied: MarkupSafe>=2.0 in c:\\users\\conno\\anaconda3\\lib\\site-packages (from jinja2->torch) (2.1.3)\n",
      "Requirement already satisfied: mpmath>=0.19 in c:\\users\\conno\\anaconda3\\lib\\site-packages (from sympy->torch) (1.3.0)\n",
      "Requirement already satisfied: onnx in c:\\users\\conno\\anaconda3\\lib\\site-packages (1.16.0)\n",
      "Requirement already satisfied: onnxruntime in c:\\users\\conno\\anaconda3\\lib\\site-packages (1.17.3)\n",
      "Requirement already satisfied: numpy>=1.20 in c:\\users\\conno\\anaconda3\\lib\\site-packages (from onnx) (1.26.4)\n",
      "Requirement already satisfied: protobuf>=3.20.2 in c:\\users\\conno\\anaconda3\\lib\\site-packages (from onnx) (3.20.2)\n",
      "Requirement already satisfied: coloredlogs in c:\\users\\conno\\anaconda3\\lib\\site-packages (from onnxruntime) (15.0.1)\n",
      "Requirement already satisfied: flatbuffers in c:\\users\\conno\\anaconda3\\lib\\site-packages (from onnxruntime) (24.3.25)\n",
      "Requirement already satisfied: packaging in c:\\users\\conno\\anaconda3\\lib\\site-packages (from onnxruntime) (23.1)\n",
      "Requirement already satisfied: sympy in c:\\users\\conno\\anaconda3\\lib\\site-packages (from onnxruntime) (1.12)\n",
      "Requirement already satisfied: humanfriendly>=9.1 in c:\\users\\conno\\anaconda3\\lib\\site-packages (from coloredlogs->onnxruntime) (10.0)\n",
      "Requirement already satisfied: mpmath>=0.19 in c:\\users\\conno\\anaconda3\\lib\\site-packages (from sympy->onnxruntime) (1.3.0)\n",
      "Requirement already satisfied: pyreadline3 in c:\\users\\conno\\anaconda3\\lib\\site-packages (from humanfriendly>=9.1->coloredlogs->onnxruntime) (3.4.1)\n",
      "Requirement already satisfied: numpy in c:\\users\\conno\\anaconda3\\lib\\site-packages (1.26.4)\n",
      "Requirement already satisfied: pillow in c:\\users\\conno\\anaconda3\\lib\\site-packages (10.2.0)\n",
      "Requirement already satisfied: xgboost in c:\\users\\conno\\anaconda3\\lib\\site-packages (2.0.3)\n",
      "Requirement already satisfied: numpy in c:\\users\\conno\\anaconda3\\lib\\site-packages (from xgboost) (1.26.4)\n",
      "Requirement already satisfied: scipy in c:\\users\\conno\\anaconda3\\lib\\site-packages (from xgboost) (1.11.4)\n",
      "Requirement already satisfied: onnxmltools in c:\\users\\conno\\anaconda3\\lib\\site-packages (1.12.0)\n",
      "Requirement already satisfied: numpy in c:\\users\\conno\\anaconda3\\lib\\site-packages (from onnxmltools) (1.26.4)\n",
      "Requirement already satisfied: onnx in c:\\users\\conno\\anaconda3\\lib\\site-packages (from onnxmltools) (1.16.0)\n",
      "Requirement already satisfied: protobuf>=3.20.2 in c:\\users\\conno\\anaconda3\\lib\\site-packages (from onnx->onnxmltools) (3.20.2)\n",
      "Requirement already satisfied: onnxconverter_common in c:\\users\\conno\\anaconda3\\lib\\site-packages (1.14.0)\n",
      "Requirement already satisfied: numpy in c:\\users\\conno\\anaconda3\\lib\\site-packages (from onnxconverter_common) (1.26.4)\n",
      "Requirement already satisfied: onnx in c:\\users\\conno\\anaconda3\\lib\\site-packages (from onnxconverter_common) (1.16.0)\n",
      "Requirement already satisfied: packaging in c:\\users\\conno\\anaconda3\\lib\\site-packages (from onnxconverter_common) (23.1)\n",
      "Requirement already satisfied: protobuf==3.20.2 in c:\\users\\conno\\anaconda3\\lib\\site-packages (from onnxconverter_common) (3.20.2)\n",
      "Requirement already satisfied: skl2onnx in c:\\users\\conno\\anaconda3\\lib\\site-packages (1.16.0)\n",
      "Requirement already satisfied: onnx>=1.2.1 in c:\\users\\conno\\anaconda3\\lib\\site-packages (from skl2onnx) (1.16.0)\n",
      "Requirement already satisfied: scikit-learn>=0.19 in c:\\users\\conno\\anaconda3\\lib\\site-packages (from skl2onnx) (1.2.2)\n",
      "Requirement already satisfied: onnxconverter-common>=1.7.0 in c:\\users\\conno\\anaconda3\\lib\\site-packages (from skl2onnx) (1.14.0)\n",
      "Requirement already satisfied: numpy>=1.20 in c:\\users\\conno\\anaconda3\\lib\\site-packages (from onnx>=1.2.1->skl2onnx) (1.26.4)\n",
      "Requirement already satisfied: protobuf>=3.20.2 in c:\\users\\conno\\anaconda3\\lib\\site-packages (from onnx>=1.2.1->skl2onnx) (3.20.2)\n",
      "Requirement already satisfied: packaging in c:\\users\\conno\\anaconda3\\lib\\site-packages (from onnxconverter-common>=1.7.0->skl2onnx) (23.1)\n",
      "Requirement already satisfied: scipy>=1.3.2 in c:\\users\\conno\\anaconda3\\lib\\site-packages (from scikit-learn>=0.19->skl2onnx) (1.11.4)\n",
      "Requirement already satisfied: joblib>=1.1.1 in c:\\users\\conno\\anaconda3\\lib\\site-packages (from scikit-learn>=0.19->skl2onnx) (1.2.0)\n",
      "Requirement already satisfied: threadpoolctl>=2.0.0 in c:\\users\\conno\\anaconda3\\lib\\site-packages (from scikit-learn>=0.19->skl2onnx) (2.2.0)\n"
     ]
    }
   ],
   "source": [
    "##!pip install mlxtend\n",
    "##!pip install onnxmltools\n",
    "##!pip install onnxruntime\n",
    "\n",
    "##!pip install torch torchvision torchaudio\n",
    "##!pip install onnx onnxruntime\n",
    "##!pip install numpy pillow\n",
    "##!pip install xgboost\n",
    "##!pip install onnxmltools\n",
    "##!pip install onnxconverter_common\n",
    "##!pip install skl2onnx\n",
    "\n",
    "\n"
   ]
  },
  {
   "cell_type": "code",
   "execution_count": 250,
   "id": "bf90700a-c0db-42a0-97e5-7911f8bb83ad",
   "metadata": {},
   "outputs": [],
   "source": [
    "import numpy as np\n",
    "import torch\n",
    "import pandas as pd\n",
    "import sklearn\n",
    "import random\n",
    "import onnxconverter_common\n",
    "import skl2onnx\n",
    "\n",
    "\n",
    "import torch.nn as nn\n",
    "import torch.nn.functional as F\n",
    "import torch.optim as optim"
   ]
  },
  {
   "cell_type": "code",
   "execution_count": 251,
   "id": "64a5f8cc-3070-4056-abb5-0d331aff12ad",
   "metadata": {},
   "outputs": [],
   "source": [
    "import matplotlib.pyplot as plt\n",
    "\n",
    "from mlxtend.plotting import heatmap\n",
    "from sklearn.model_selection import train_test_split\n",
    "from torch.utils.data import TensorDataset, DataLoader\n",
    "\n",
    "## coefficient of determination \n",
    "from sklearn.metrics import r2_score"
   ]
  },
  {
   "cell_type": "code",
   "execution_count": 252,
   "id": "015ed3d5-9e3a-40c4-a5b9-4eca94e5114e",
   "metadata": {},
   "outputs": [],
   "source": [
    "import xgboost as xgb\n"
   ]
  },
  {
   "cell_type": "code",
   "execution_count": 253,
   "id": "764382cf-dc7e-49fa-8549-51b710f78394",
   "metadata": {},
   "outputs": [],
   "source": [
    "import onnxruntime as rt\n",
    "import onnxmltools\n",
    "\n",
    "from skl2onnx.common.data_types import FloatTensorType"
   ]
  },
  {
   "cell_type": "code",
   "execution_count": 254,
   "id": "2fb3d6ce-aa26-4330-b963-e251dee65a85",
   "metadata": {},
   "outputs": [],
   "source": [
    "## 0.001, 0.0001, 0.0003, 0.01, 0.03\n",
    "\n",
    "batch_size    = 16\n",
    "learning_rate = 0.005 ## 0.001\n",
    "N_Epochs      = 100\n",
    "\n",
    "epsilon = 0.0001"
   ]
  },
  {
   "cell_type": "code",
   "execution_count": 255,
   "id": "35f2daee-c38f-40c7-b2ca-96c5930617f9",
   "metadata": {},
   "outputs": [],
   "source": [
    "import pandas as pd\n",
    "\n",
    "# Specify the corrected file path using forward slashes or double backslashes\n",
    "path_data = \"C:/Users/Conno/Dropbox/SocialAds/social_ads.csv\"\n",
    "# Alternatively, use double backslashes for Windows paths:\n",
    "# path_data = \"C:\\\\Users\\\\Conno\\\\Dropbox\\\\SocialAds\\\\social_ads.csv\"\n",
    "\n",
    "# Read the CSV file into a DataFrame\n",
    "ADS_raw_data = pd.read_csv(path_data, delimiter=\";\")\n"
   ]
  },
  {
   "cell_type": "code",
   "execution_count": 256,
   "id": "f340c50f-a5f7-40a5-b8aa-9bc0bfdbf962",
   "metadata": {},
   "outputs": [
    {
     "data": {
      "text/html": [
       "<div>\n",
       "<style scoped>\n",
       "    .dataframe tbody tr th:only-of-type {\n",
       "        vertical-align: middle;\n",
       "    }\n",
       "\n",
       "    .dataframe tbody tr th {\n",
       "        vertical-align: top;\n",
       "    }\n",
       "\n",
       "    .dataframe thead th {\n",
       "        text-align: right;\n",
       "    }\n",
       "</style>\n",
       "<table border=\"1\" class=\"dataframe\">\n",
       "  <thead>\n",
       "    <tr style=\"text-align: right;\">\n",
       "      <th></th>\n",
       "      <th>Age,Salary,Purchased</th>\n",
       "    </tr>\n",
       "  </thead>\n",
       "  <tbody>\n",
       "    <tr>\n",
       "      <th>0</th>\n",
       "      <td>19,19000,0</td>\n",
       "    </tr>\n",
       "    <tr>\n",
       "      <th>1</th>\n",
       "      <td>35,20000,0</td>\n",
       "    </tr>\n",
       "    <tr>\n",
       "      <th>2</th>\n",
       "      <td>26,43000,0</td>\n",
       "    </tr>\n",
       "    <tr>\n",
       "      <th>3</th>\n",
       "      <td>27,57000,0</td>\n",
       "    </tr>\n",
       "    <tr>\n",
       "      <th>4</th>\n",
       "      <td>19,76000,0</td>\n",
       "    </tr>\n",
       "    <tr>\n",
       "      <th>...</th>\n",
       "      <td>...</td>\n",
       "    </tr>\n",
       "    <tr>\n",
       "      <th>395</th>\n",
       "      <td>46,41000,1</td>\n",
       "    </tr>\n",
       "    <tr>\n",
       "      <th>396</th>\n",
       "      <td>51,23000,1</td>\n",
       "    </tr>\n",
       "    <tr>\n",
       "      <th>397</th>\n",
       "      <td>50,20000,1</td>\n",
       "    </tr>\n",
       "    <tr>\n",
       "      <th>398</th>\n",
       "      <td>36,33000,0</td>\n",
       "    </tr>\n",
       "    <tr>\n",
       "      <th>399</th>\n",
       "      <td>49,36000,1</td>\n",
       "    </tr>\n",
       "  </tbody>\n",
       "</table>\n",
       "<p>400 rows × 1 columns</p>\n",
       "</div>"
      ],
      "text/plain": [
       "    Age,Salary,Purchased\n",
       "0             19,19000,0\n",
       "1             35,20000,0\n",
       "2             26,43000,0\n",
       "3             27,57000,0\n",
       "4             19,76000,0\n",
       "..                   ...\n",
       "395           46,41000,1\n",
       "396           51,23000,1\n",
       "397           50,20000,1\n",
       "398           36,33000,0\n",
       "399           49,36000,1\n",
       "\n",
       "[400 rows x 1 columns]"
      ]
     },
     "execution_count": 256,
     "metadata": {},
     "output_type": "execute_result"
    }
   ],
   "source": [
    "ADS_raw_data\n"
   ]
  },
  {
   "cell_type": "code",
   "execution_count": 257,
   "id": "66b8478e-ddd3-468c-adff-c3318f6cd7cb",
   "metadata": {},
   "outputs": [
    {
     "data": {
      "text/plain": [
       "['Age,Salary,Purchased']"
      ]
     },
     "execution_count": 257,
     "metadata": {},
     "output_type": "execute_result"
    }
   ],
   "source": [
    "headers_list = ADS_raw_data.columns.values.tolist()\n",
    "\n",
    "headers_list"
   ]
  },
  {
   "cell_type": "code",
   "execution_count": 258,
   "id": "8f27b64a-f0ab-4b5e-bf86-da55c2886ba5",
   "metadata": {},
   "outputs": [],
   "source": [
    "headers_list2 = [ 'Age',\n",
    " 'Salary',\n",
    " 'Purchased']"
   ]
  },
  {
   "cell_type": "code",
   "execution_count": 259,
   "id": "48bc7dfc-3cc6-4876-8113-504ef6774ebf",
   "metadata": {},
   "outputs": [
    {
     "data": {
      "image/png": "[encoded data removed]",
      "text/plain": [
       "<Figure size 1000x800 with 2 Axes>"
      ]
     },
     "metadata": {},
     "output_type": "display_data"
    }
   ],
   "source": [
    "import numpy as np\n",
    "import pandas as pd\n",
    "import matplotlib.pyplot as plt\n",
    "import seaborn as sns\n",
    "\n",
    "# Load your Ads data from the CSV file\n",
    "# Replace 'path_to_your_file.csv' with the actual path to your CSV file\n",
    "path_data = \"C:/Users/Conno/Dropbox/SocialAds/social_ads.csv\"\n",
    "\n",
    "ADS_raw_data = pd.read_csv(path_data)\n",
    "\n",
    "# Select columns of interest for correlation analysis\n",
    "columns_of_interest = ['Age', 'Salary', 'Purchased']\n",
    "\n",
    "# Convert 'purchased' column to numeric (assuming it's already 0/1)\n",
    "ADS_raw_data['Purchased'] = pd.to_numeric(ADS_raw_data['Purchased'], errors='coerce')\n",
    "\n",
    "# Calculate correlation coefficients\n",
    "cm = np.corrcoef(ADS_raw_data[columns_of_interest].values.T)\n",
    "\n",
    "# Create heatmap using seaborn\n",
    "plt.figure(figsize=(10, 8))\n",
    "sns.heatmap(cm, annot=True, fmt=\".2f\", cmap=\"coolwarm\", xticklabels=columns_of_interest, yticklabels=columns_of_interest)\n",
    "plt.title(\"Correlation Heatmap for Age, Salary, and Purchased\")\n",
    "plt.show()\n",
    "\n"
   ]
  },
  {
   "cell_type": "code",
   "execution_count": 260,
   "id": "fa638f76-2613-4a22-971c-d48f109a4d2b",
   "metadata": {},
   "outputs": [],
   "source": [
    "## Convert Pandas to Numpy\n",
    "\n",
    "ADS_raw_data_np = ADS_raw_data.to_numpy()"
   ]
  },
  {
   "cell_type": "code",
   "execution_count": 261,
   "id": "7f52c245-b2e9-4162-8151-d727876bc97c",
   "metadata": {},
   "outputs": [
    {
     "data": {
      "text/plain": [
       "array([[   19, 19000,     0],\n",
       "       [   35, 20000,     0],\n",
       "       [   26, 43000,     0],\n",
       "       ...,\n",
       "       [   50, 20000,     1],\n",
       "       [   36, 33000,     0],\n",
       "       [   49, 36000,     1]], dtype=int64)"
      ]
     },
     "execution_count": 261,
     "metadata": {},
     "output_type": "execute_result"
    }
   ],
   "source": [
    "ADS_raw_data_np\n"
   ]
  },
  {
   "cell_type": "code",
   "execution_count": 262,
   "id": "7737990b-95de-4105-b6bf-45f673bbd9b7",
   "metadata": {},
   "outputs": [
    {
     "data": {
      "text/plain": [
       "(400, 3)"
      ]
     },
     "execution_count": 262,
     "metadata": {},
     "output_type": "execute_result"
    }
   ],
   "source": [
    "ADS_raw_data_np.shape\n"
   ]
  },
  {
   "cell_type": "code",
   "execution_count": 263,
   "id": "6021aa43-545d-4200-87dc-357d880a3d7d",
   "metadata": {},
   "outputs": [],
   "source": [
    "X = ADS_raw_data_np[:, :-1]\n",
    "\n",
    "\n",
    "y = ADS_raw_data_np[:, 11:12]"
   ]
  },
  {
   "cell_type": "code",
   "execution_count": 264,
   "id": "eb4b6554-a909-48a2-a277-00a1005f3828",
   "metadata": {},
   "outputs": [
    {
     "data": {
      "text/plain": [
       "array([], shape=(400, 0), dtype=int64)"
      ]
     },
     "execution_count": 264,
     "metadata": {},
     "output_type": "execute_result"
    }
   ],
   "source": [
    "y\n"
   ]
  },
  {
   "cell_type": "code",
   "execution_count": 265,
   "id": "1564ee8f-1020-4fb0-9597-3faa88281c97",
   "metadata": {},
   "outputs": [
    {
     "name": "stdout",
     "output_type": "stream",
     "text": [
      "(400, 2)\n",
      "(400, 0)\n"
     ]
    }
   ],
   "source": [
    "print(X.shape)\n",
    "\n",
    "print(y.shape)"
   ]
  },
  {
   "cell_type": "code",
   "execution_count": 266,
   "id": "323901ab-a905-47b0-b489-bb98243c6855",
   "metadata": {},
   "outputs": [],
   "source": [
    "random_seed = int( random.random() * 100 )     ## 42\n"
   ]
  },
  {
   "cell_type": "code",
   "execution_count": 267,
   "id": "6000cd80-f442-4457-a2e3-15dcebf7b8b7",
   "metadata": {},
   "outputs": [],
   "source": [
    "X_train, X_test, y_train, y_test = train_test_split(X, y, test_size=0.2, random_state=random_seed)\n"
   ]
  },
  {
   "cell_type": "code",
   "execution_count": 268,
   "id": "a58e88af-6943-40ad-bead-3c1b75b453e2",
   "metadata": {},
   "outputs": [
    {
     "name": "stdout",
     "output_type": "stream",
     "text": [
      "(320, 2)\n",
      "(80, 2)\n",
      "(320, 0)\n",
      "(80, 0)\n"
     ]
    }
   ],
   "source": [
    "print(X_train.shape)\n",
    "print(X_test.shape)\n",
    "print(y_train.shape)\n",
    "print(y_test.shape)"
   ]
  },
  {
   "cell_type": "code",
   "execution_count": 269,
   "id": "daffb433-dad4-4244-a0f9-fde47bd15166",
   "metadata": {},
   "outputs": [
    {
     "data": {
      "text/plain": [
       "dtype('int64')"
      ]
     },
     "execution_count": 269,
     "metadata": {},
     "output_type": "execute_result"
    }
   ],
   "source": [
    "y_test.dtype \n"
   ]
  },
  {
   "cell_type": "code",
   "execution_count": 270,
   "id": "5366fb7f-f594-4a53-a2aa-ae1e9a78e895",
   "metadata": {},
   "outputs": [],
   "source": [
    "## fix data type\n",
    "\n",
    "X_train = X_train.astype(  np.float32  )\n",
    "X_test  = X_test.astype(   np.float32  )\n",
    "y_train = y_train.astype(  np.float32  )\n",
    "y_test  = y_test.astype(   np.float32  )"
   ]
  },
  {
   "cell_type": "code",
   "execution_count": 271,
   "id": "2934af1b-19a0-4707-863a-3b0ed08bfaa7",
   "metadata": {},
   "outputs": [],
   "source": [
    "X_train_tr = torch.from_numpy(X_train)\n",
    "X_test_tr  = torch.from_numpy(X_test)\n",
    "y_train_tr = torch.from_numpy(y_train)\n",
    "y_test_tr  = torch.from_numpy(y_test)"
   ]
  },
  {
   "cell_type": "code",
   "execution_count": 272,
   "id": "13cb84b5-5bce-41e9-a4b9-df00dee0bfa7",
   "metadata": {},
   "outputs": [],
   "source": [
    "x_means      = X_train_tr.mean(0, keepdim=True ) \n",
    "\n",
    "x_deviations = X_train_tr.std( 0, keepdim=True) + epsilon"
   ]
  },
  {
   "cell_type": "code",
   "execution_count": 273,
   "id": "d93c21f8-8d99-4345-b4c9-dbb9b00b83f2",
   "metadata": {},
   "outputs": [
    {
     "data": {
      "text/plain": [
       "tensor([[3.8078e+01, 6.8416e+04]])"
      ]
     },
     "execution_count": 273,
     "metadata": {},
     "output_type": "execute_result"
    }
   ],
   "source": [
    "x_means\n"
   ]
  },
  {
   "cell_type": "code",
   "execution_count": 274,
   "id": "9bcd2f23-541f-4c10-bb72-2e786bf26b42",
   "metadata": {},
   "outputs": [
    {
     "data": {
      "text/plain": [
       "tensor([[1.0354e+01, 3.3570e+04]])"
      ]
     },
     "execution_count": 274,
     "metadata": {},
     "output_type": "execute_result"
    }
   ],
   "source": [
    "x_deviations\n"
   ]
  },
  {
   "cell_type": "code",
   "execution_count": 275,
   "id": "660cad1f-121a-4bc9-b566-f87ca7e92e63",
   "metadata": {},
   "outputs": [],
   "source": [
    "train_ds = TensorDataset( X_train_tr, y_train_tr  )\n"
   ]
  },
  {
   "cell_type": "code",
   "execution_count": 276,
   "id": "bdfb3f79-58c9-4ae2-ba4d-0ea7aa042118",
   "metadata": {},
   "outputs": [],
   "source": [
    "train_dl = DataLoader( train_ds, batch_size, shuffle=True  )\n"
   ]
  },
  {
   "cell_type": "code",
   "execution_count": 277,
   "id": "a9a56406-5d52-4f11-8018-f8860af40ed1",
   "metadata": {},
   "outputs": [
    {
     "data": {
      "text/plain": [
       "<torch.utils.data.dataloader.DataLoader at 0x27d484d5a10>"
      ]
     },
     "execution_count": 277,
     "metadata": {},
     "output_type": "execute_result"
    }
   ],
   "source": [
    "train_dl\n"
   ]
  },
  {
   "cell_type": "code",
   "execution_count": 278,
   "id": "45b6083c-0d6c-4eaa-910a-b0899f9c3108",
   "metadata": {},
   "outputs": [],
   "source": [
    "## Linear Regression\n",
    "\n",
    "class LinRegNet(nn.Module):\n",
    "    ## init the class\n",
    "    def __init__(self, x_means, x_deviations):\n",
    "        super().__init__()\n",
    "        \n",
    "        self.x_means      = x_means\n",
    "        self.x_deviations = x_deviations\n",
    "        \n",
    "        self.linear1 = nn.Linear(11, 1)\n",
    "        \n",
    "    ## perform inference\n",
    "    def forward(self, x):\n",
    "        \n",
    "        x = (x - self.x_means) / self.x_deviations\n",
    "        \n",
    "        y_pred = self.linear1(x)\n",
    "        ## return torch.round( y_pred )\n",
    "        return y_pred\n",
    "        "
   ]
  },
  {
   "cell_type": "code",
   "execution_count": 279,
   "id": "360d526c-d952-44d9-a87a-c11821c02281",
   "metadata": {},
   "outputs": [],
   "source": [
    "## MLP\n",
    "\n",
    "class MLP_Net(nn.Module):\n",
    "    ## init the class\n",
    "    def __init__(self, x_means, x_deviations):\n",
    "        super().__init__()\n",
    "        \n",
    "        self.x_means      = x_means\n",
    "        self.x_deviations = x_deviations\n",
    "        \n",
    "        self.linear1 = nn.Linear(11, 8)\n",
    "        self.act1    = nn.Sigmoid()\n",
    "        self.linear2 = nn.Linear(8, 1)\n",
    "        self.dropout = nn.Dropout(0.25)\n",
    "        \n",
    "    ## perform inference\n",
    "    def forward(self, x):\n",
    "        \n",
    "        x = (x - self.x_means) / self.x_deviations\n",
    "        \n",
    "        x = self.linear1(x)\n",
    "        x = self.act1(x)\n",
    "        x = self.dropout(x)\n",
    "        y_pred = self.linear2(x)\n",
    "        \n",
    "        ## return torch.round( y_pred )\n",
    "        return y_pred"
   ]
  },
  {
   "cell_type": "code",
   "execution_count": 280,
   "id": "47994e19-3af0-485b-860c-de79c5c0ab82",
   "metadata": {},
   "outputs": [],
   "source": [
    "## Deep Learning with 2 hidden layers\n",
    "\n",
    "class DL_Net(nn.Module):\n",
    "    ## init the class\n",
    "    def __init__(self, x_means, x_deviations):\n",
    "        super().__init__()\n",
    "        \n",
    "        self.x_means      = x_means\n",
    "        self.x_deviations = x_deviations\n",
    "        \n",
    "        self.linear1 = nn.Linear(11, 10)\n",
    "        self.act1    = nn.ReLU()\n",
    "        self.linear2 = nn.Linear(10, 6)\n",
    "        self.act2    = nn.ReLU()\n",
    "        self.linear3 = nn.Linear(6, 1)\n",
    "        self.dropout = nn.Dropout(0.25)\n",
    "        \n",
    "    ## perform inference\n",
    "    def forward(self, x):\n",
    "        \n",
    "        x = (x - self.x_means) / self.x_deviations\n",
    "        \n",
    "        x = self.linear1(x)\n",
    "        x = self.act1(x)\n",
    "        x = self.linear2(x)\n",
    "        x = self.act2(x)\n",
    "        ## x = self.dropout(x)\n",
    "        y_pred = self.linear3(x)\n",
    "        \n",
    "        ## return torch.round( y_pred )\n",
    "        return y_pred"
   ]
  },
  {
   "cell_type": "code",
   "execution_count": 281,
   "id": "20b88911-9fef-4ced-831a-f0788e618ed0",
   "metadata": {},
   "outputs": [],
   "source": [
    "## Linear plus Nonlinear\n",
    "## f1 + f2\n",
    "\n",
    "class LinearPlusNonLinear_Net(nn.Module):\n",
    "    ## init the class\n",
    "    def __init__(self, x_means, x_deviations):\n",
    "        super().__init__()\n",
    "        \n",
    "        self.x_means      = x_means\n",
    "        self.x_deviations = x_deviations\n",
    "        \n",
    "        ## F1\n",
    "        self.f1_linear1 = nn.Linear(11, 1)\n",
    "        \n",
    "        ## F2\n",
    "        self.f2_linear1 = nn.Linear(11, 14)\n",
    "        self.f2_act1    = nn.Sigmoid()\n",
    "        self.f2_linear2 = nn.Linear(14, 1)\n",
    "        \n",
    "    \n",
    "    ## perform inference\n",
    "    def forward(self, x):\n",
    "        \n",
    "        x = (x - self.x_means) / self.x_deviations\n",
    "        \n",
    "        ## F1\n",
    "        f1 = self.f1_linear(x)\n",
    "        \n",
    "        ## F2\n",
    "        f2 = self.f2_linear1(x)\n",
    "        f2 = self.f2_act1(f2)\n",
    "        f2 = self.f2_linear2(f2)\n",
    "        \n",
    "        y_pred = f1 + f2\n",
    "        \n",
    "        ## return torch.round( y_pred )\n",
    "        return y_pred"
   ]
  },
  {
   "cell_type": "code",
   "execution_count": 282,
   "id": "92d8b4e4-eedb-4d11-925f-cb996d3a633b",
   "metadata": {},
   "outputs": [],
   "source": [
    "def training_loop( N_Epochs, model, loss_fn, opt  ):\n",
    "    \n",
    "    for epoch in range(N_Epochs):\n",
    "        for xb, yb in train_dl:\n",
    "            \n",
    "            y_pred = model(xb)\n",
    "            loss   = loss_fn(y_pred, yb)\n",
    "            \n",
    "            opt.zero_grad()\n",
    "            loss.backward()\n",
    "            opt.step()\n",
    "            \n",
    "        if epoch % 20 == 0:\n",
    "            print(epoch, \"loss=\", loss)\n",
    "            "
   ]
  },
  {
   "cell_type": "code",
   "execution_count": 283,
   "id": "602a4d44-8ea1-4152-9b12-d9e7895d84cd",
   "metadata": {},
   "outputs": [],
   "source": [
    "import torch\n",
    "import torch.nn as nn\n",
    "import torch.nn.functional as F\n",
    "\n",
    "class DL_Net(nn.Module):\n",
    "    def __init__(self, x_means, x_deviations):\n",
    "        super(DL_Net, self).__init__()\n",
    "        self.x_means = x_means\n",
    "        self.x_deviations = x_deviations\n",
    "        self.linear1 = nn.Linear(len(x_means), 64)\n",
    "        self.linear2 = nn.Linear(64, 1)\n",
    "        self.act1 = nn.ReLU()\n",
    "\n",
    "    def forward(self, x):\n",
    "        # Ensure x_means and x_deviations are tensors\n",
    "        x_means_tensor = torch.tensor(self.x_means, dtype=torch.float32)\n",
    "        x_deviations_tensor = torch.tensor(self.x_deviations, dtype=torch.float32)\n",
    "        \n",
    "        # Normalize input x\n",
    "        x_normalized = (x - x_means_tensor) / x_deviations_tensor\n",
    "        \n",
    "        # Apply linear -> activation -> linear\n",
    "        x = self.linear1(x_normalized)\n",
    "        x = self.act1(x)\n",
    "        x = self.linear2(x)\n",
    "        return torch.sigmoid(x)  # Apply sigmoid for binary classification\n"
   ]
  },
  {
   "cell_type": "code",
   "execution_count": 284,
   "id": "56da9021-5d4f-4a8c-9e91-094507ad004e",
   "metadata": {},
   "outputs": [],
   "source": [
    "import torch\n",
    "import torch.nn as nn\n",
    "import torch.nn.functional as F\n",
    "\n",
    "class DL_Net(nn.Module):\n",
    "    def __init__(self, x_means, x_deviations):\n",
    "        super(DL_Net, self).__init__()\n",
    "        self.x_means = x_means\n",
    "        self.x_deviations = x_deviations\n",
    "        self.linear1 = nn.Linear(len(x_means), 64)\n",
    "        self.linear2 = nn.Linear(64, 1)\n",
    "        self.act1 = nn.ReLU()\n",
    "\n",
    "    def forward(self, x):\n",
    "        # Ensure x_means and x_deviations are tensors\n",
    "        x_means_tensor = torch.tensor(self.x_means, dtype=torch.float32)\n",
    "        x_deviations_tensor = torch.tensor(self.x_deviations, dtype=torch.float32)\n",
    "\n",
    "        print(\"x shape:\", x.shape)\n",
    "        print(\"x_means shape:\", x_means_tensor.shape)\n",
    "        print(\"x_deviations shape:\", x_deviations_tensor.shape)\n",
    "        \n",
    "        # Normalize input x\n",
    "        x_normalized = (x - x_means_tensor) / x_deviations_tensor\n",
    "        \n",
    "        print(\"x_normalized shape:\", x_normalized.shape)\n",
    "        \n",
    "        # Apply linear -> activation -> linear\n",
    "        x = self.linear1(x_normalized)\n",
    "        x = self.act1(x)\n",
    "        x = self.linear2(x)\n",
    "        return torch.sigmoid(x)  # Apply sigmoid for binary classification\n"
   ]
  },
  {
   "cell_type": "code",
   "execution_count": 285,
   "id": "e629767e-9426-446b-8fb5-664781d7ddf9",
   "metadata": {},
   "outputs": [],
   "source": [
    "class DL_Net(nn.Module):\n",
    "    def __init__(self, x_means, x_deviations):\n",
    "        super(DL_Net, self).__init__()\n",
    "        self.x_means = nn.Parameter(x_means)  # Assuming x_means is a tensor\n",
    "        self.x_deviations = nn.Parameter(x_deviations)  # Assuming x_deviations is a tensor\n",
    "        self.linear1 = nn.Linear(in_features, hidden_size)\n",
    "        self.act1 = nn.ReLU()\n",
    "        self.linear2 = nn.Linear(hidden_size, out_features)\n",
    "    \n",
    "    def forward(self, x):\n",
    "        print(\"Shape of x:\", x.shape)\n",
    "        print(\"Shape of self.x_means:\", self.x_means.shape)\n",
    "        print(\"Shape of self.x_deviations:\", self.x_deviations.shape)\n",
    "        \n",
    "        # Check if shapes match for element-wise operations\n",
    "        assert x.shape == self.x_means.shape == self.x_deviations.shape, \"Shape mismatch\"\n",
    "        \n",
    "        # Perform normalization and forward pass\n",
    "        x_normalized = (x - self.x_means) / self.x_deviations\n",
    "        x = self.act1(self.linear1(x_normalized))\n",
    "        x = self.linear2(x)\n",
    "        \n",
    "        return x\n",
    "\n"
   ]
  },
  {
   "cell_type": "code",
   "execution_count": 286,
   "id": "58bc3b83-3a95-4272-b080-00b4b23cbda6",
   "metadata": {},
   "outputs": [],
   "source": [
    "## y_pred_test\n"
   ]
  },
  {
   "cell_type": "code",
   "execution_count": 287,
   "id": "5c466ab6-b23e-4f66-9e92-62f519802279",
   "metadata": {},
   "outputs": [],
   "source": [
    "import torch.nn as nn\n",
    "import torch.nn.functional as F\n",
    "\n",
    "class DL_Net(nn.Module):\n",
    "    def __init__(self, x_means, x_deviations):\n",
    "        super(DL_Net, self).__init__()\n",
    "        self.x_means = nn.Parameter(torch.tensor(x_means), requires_grad=False)\n",
    "        self.x_deviations = nn.Parameter(torch.tensor(x_deviations), requires_grad=False)\n",
    "        self.linear1 = nn.Linear(input_size, hidden_size)\n",
    "        self.act1 = nn.ReLU()\n",
    "        self.linear2 = nn.Linear(hidden_size, output_size)\n",
    "\n",
    "    def forward(self, x):\n",
    "        # Normalize input using x_means and x_deviations\n",
    "        x = (x - self.x_means) / self.x_deviations\n",
    "        x = self.act1(self.linear1(x))\n",
    "        x = self.linear2(x)\n",
    "        return x\n",
    "\n"
   ]
  },
  {
   "cell_type": "code",
   "execution_count": 288,
   "id": "31bb1fe8-3beb-4978-9436-b345ff7e059f",
   "metadata": {},
   "outputs": [],
   "source": [
    "class DL_Net(nn.Module):\n",
    "    def __init__(self, x_means, x_deviations):\n",
    "        super(DL_Net, self).__init__()\n",
    "        self.x_means = nn.Parameter(torch.tensor(x_means))\n",
    "        self.x_deviations = nn.Parameter(torch.tensor(x_deviations))\n",
    "        # Define your model layers here\n",
    "\n",
    "    def forward(self, x):\n",
    "        # Normalize input tensor 'x' using x_means and x_deviations\n",
    "        normalized_x = (x - self.x_means) / self.x_deviations\n",
    "        # Pass through model layers\n",
    "        # Example: normalized_x = self.conv1(normalized_x)\n",
    "        #          normalized_x = self.relu(normalized_x)\n",
    "        return normalized_x\n",
    "\n"
   ]
  },
  {
   "cell_type": "code",
   "execution_count": 289,
   "id": "8c83ac1d-7d11-4118-ba9e-8fde07613f38",
   "metadata": {},
   "outputs": [
    {
     "data": {
      "text/plain": [
       "torch.Size([80, 0])"
      ]
     },
     "execution_count": 289,
     "metadata": {},
     "output_type": "execute_result"
    }
   ],
   "source": [
    "y_test_tr.shape\n"
   ]
  },
  {
   "cell_type": "code",
   "execution_count": 290,
   "id": "2a22a48a-eba7-4b0c-9964-6a40ce6fc2ca",
   "metadata": {},
   "outputs": [
    {
     "data": {
      "text/plain": [
       "80"
      ]
     },
     "execution_count": 290,
     "metadata": {},
     "output_type": "execute_result"
    }
   ],
   "source": [
    "len(X_test_tr)\n"
   ]
  },
  {
   "cell_type": "code",
   "execution_count": 291,
   "id": "35780354-e147-4299-be35-183cf4755e2b",
   "metadata": {},
   "outputs": [],
   "source": [
    "class DL_Net(nn.Module):\n",
    "    def __init__(self, x_means, x_deviations):\n",
    "        super(DL_Net, self).__init__()\n",
    "        self.x_means = torch.tensor(x_means)  # Assuming x_means is a numpy array or list\n",
    "        self.x_deviations = torch.tensor(x_deviations)  # Assuming x_deviations is a numpy array or list\n",
    "        self.linear1 = nn.Linear(input_size, hidden_size)\n",
    "        self.act1 = nn.ReLU()\n",
    "        self.linear2 = nn.Linear(hidden_size, output_size)\n",
    "\n",
    "    def forward(self, x):\n",
    "        print(\"Input shape:\", x.shape)\n",
    "        print(\"Means shape:\", self.x_means.shape)\n",
    "        print(\"Deviations shape:\", self.x_deviations.shape)\n",
    "        \n",
    "        x = (x - self.x_means) / self.x_deviations  # Check shapes and types here\n",
    "        print(\"Transformed input shape:\", x.shape)\n",
    "        \n",
    "        x = self.act1(self.linear1(x))\n",
    "        x = self.linear2(x)\n",
    "        return x\n",
    "\n"
   ]
  },
  {
   "cell_type": "code",
   "execution_count": 292,
   "id": "942949a6-66fb-4b18-93ab-ef976d984674",
   "metadata": {},
   "outputs": [],
   "source": [
    "class DL_Net(nn.Module):\n",
    "    def __init__(self, x_means, x_deviations):\n",
    "        super(DL_Net, self).__init__()\n",
    "        self.x_means = torch.tensor(x_means)\n",
    "        self.x_deviations = torch.tensor(x_deviations)\n",
    "        self.linear1 = nn.Linear(input_size, hidden_size)\n",
    "        self.act1 = nn.ReLU()\n",
    "        self.linear2 = nn.Linear(hidden_size, output_size)\n",
    "\n",
    "    def forward(self, x):\n",
    "        print(\"Input shape:\", x.shape)\n",
    "        print(\"Means shape:\", self.x_means.shape)\n",
    "        print(\"Deviations shape:\", self.x_deviations.shape)\n",
    "\n",
    "        x = (x - self.x_means) / self.x_deviations  # Check shapes and types here\n",
    "        print(\"Transformed input shape:\", x.shape)\n",
    "\n",
    "        x = self.act1(self.linear1(x))\n",
    "        x = self.linear2(x)\n",
    "        return x\n"
   ]
  },
  {
   "cell_type": "code",
   "execution_count": 293,
   "id": "1630f9fe-d2f9-4d13-8e83-954721991e70",
   "metadata": {},
   "outputs": [],
   "source": [
    "regressor = xgb.XGBRegressor(\n",
    "\n",
    "        n_estimators=100,\n",
    "        reg_lambda=1,\n",
    "        gamma=0,\n",
    "        max_depth=3\n",
    ")"
   ]
  },
  {
   "cell_type": "code",
   "execution_count": 294,
   "id": "987c29ee-9907-49c4-80f3-0af2dc7fc2cd",
   "metadata": {},
   "outputs": [
    {
     "name": "stdout",
     "output_type": "stream",
     "text": [
      "X_train shape: (320, 2)\n",
      "y_train shape: (320, 0)\n",
      "Error during training: [23:54:59] C:\\buildkite-agent\\builds\\buildkite-windows-cpu-autoscaling-group-i-0b3782d1791676daf-1\\xgboost\\xgboost-ci-windows\\src\\objective\\regression_obj.cu:48: Check failed: info.labels.Size() == preds.Size() (0 vs. 320) : Invalid shape of labels.\n"
     ]
    }
   ],
   "source": [
    "import xgboost as xgb\n",
    "\n",
    "# Assuming X_train and y_train are properly defined\n",
    "# X_train should be a 2D array (samples x features)\n",
    "# y_train should be a 1D array (labels)\n",
    "\n",
    "# Print shapes of X_train and y_train\n",
    "print(\"X_train shape:\", X_train.shape)\n",
    "print(\"y_train shape:\", y_train.shape)\n",
    "\n",
    "# Create an instance of XGBRegressor\n",
    "regressor = xgb.XGBRegressor(\n",
    "    n_estimators=100,\n",
    "    reg_lambda=1,\n",
    "    gamma=0,\n",
    "    max_depth=3\n",
    ")\n",
    "\n",
    "# Fit the regressor to the training data\n",
    "try:\n",
    "    regressor.fit(X_train, y_train)\n",
    "    print(\"Model training successful!\")\n",
    "except Exception as e:\n",
    "    print(\"Error during training:\", e)\n",
    "\n",
    "\n"
   ]
  },
  {
   "cell_type": "code",
   "execution_count": 295,
   "id": "dc12a40f-1779-44da-ba4e-3bd7b8fc61dc",
   "metadata": {},
   "outputs": [
    {
     "name": "stdout",
     "output_type": "stream",
     "text": [
      "Shape of data: (400, 3)\n",
      "Columns of data: Index(['Age', 'Salary', 'Purchased'], dtype='object')\n",
      "NaN values in X: False\n",
      "NaN values in y: False\n",
      "Root Mean Squared Error: 0.3127700408045913\n"
     ]
    }
   ],
   "source": [
    "import pandas as pd\n",
    "import numpy as np\n",
    "import xgboost as xgb\n",
    "from sklearn.model_selection import train_test_split\n",
    "from sklearn.metrics import mean_squared_error\n",
    "\n",
    "# Load data from CSV file\n",
    "data = pd.read_csv('C:/Users/Conno/Dropbox/SocialAds/social_ads.csv')\n",
    "\n",
    "# Display basic information about the data\n",
    "print(\"Shape of data:\", data.shape)\n",
    "print(\"Columns of data:\", data.columns)\n",
    "\n",
    "# Assuming 'Purchased' is the target column\n",
    "target_column_name = 'Purchased'\n",
    "\n",
    "# Separate features (X) and target variable (y)\n",
    "X = data.drop(columns=[target_column_name])\n",
    "y = data[target_column_name]\n",
    "\n",
    "# Check for and handle missing values\n",
    "print(\"NaN values in X:\", X.isnull().sum().any())\n",
    "print(\"NaN values in y:\", y.isnull().sum().any())\n",
    "\n",
    "# Split data into training and test sets\n",
    "X_train, X_test, y_train, y_test = train_test_split(X, y, test_size=0.2, random_state=42)\n",
    "\n",
    "# Create an instance of XGBRegressor\n",
    "regressor = xgb.XGBRegressor(n_estimators=100, reg_lambda=1, gamma=0, max_depth=3)\n",
    "\n",
    "# Fit the regressor to the training data\n",
    "regressor.fit(X_train, y_train)\n",
    "\n",
    "# Make predictions on the test data\n",
    "y_pred = regressor.predict(X_test)\n",
    "\n",
    "# Evaluate the model (e.g., using RMSE)\n",
    "rmse = np.sqrt(mean_squared_error(y_test, y_pred))\n",
    "print(\"Root Mean Squared Error:\", rmse)\n"
   ]
  },
  {
   "cell_type": "code",
   "execution_count": 296,
   "id": "0689d27c-f387-49c0-9042-7d57a060315a",
   "metadata": {},
   "outputs": [
    {
     "data": {
      "text/plain": [
       "(80,)"
      ]
     },
     "execution_count": 296,
     "metadata": {},
     "output_type": "execute_result"
    }
   ],
   "source": [
    "y_pred.shape\n"
   ]
  },
  {
   "cell_type": "code",
   "execution_count": 297,
   "id": "4f88080e-1e69-42a9-a1a2-b0a84dc9c423",
   "metadata": {},
   "outputs": [
    {
     "data": {
      "text/plain": [
       "array([ 0.9788181 ,  1.0722193 , -0.01612116,  0.6916023 ,  0.00269255,\n",
       "       -0.00364683,  0.9297528 , -0.04941066,  0.17307119, -0.05790855,\n",
       "       -0.06412283,  1.0540602 , -0.04901338,  0.00269255,  0.10731786,\n",
       "        0.9942297 ,  0.6938482 ,  0.3698316 ,  0.01365973,  0.90472746,\n",
       "        0.00269255,  0.041746  ,  0.9713406 ,  0.2040061 ,  0.00269255,\n",
       "        0.6652461 ,  0.37050566,  0.04806327,  1.0379676 ,  0.00269255,\n",
       "        0.5294752 ,  0.5723103 ,  0.9568511 ,  0.11018369,  1.0043905 ,\n",
       "        0.02883751,  0.04806327, -0.10905139,  0.00269255,  0.00910813,\n",
       "        0.99111354, -0.00802351, -0.00802351,  0.9713406 ,  0.04808855,\n",
       "        0.6999848 ,  0.00196839,  0.05515093,  0.56463146, -0.01154778,\n",
       "        0.11018369,  0.5426277 , -0.05320102,  0.041746  ,  0.1707659 ,\n",
       "        0.00269255,  1.0148808 ,  1.0309137 , -0.00744616,  0.01304145,\n",
       "        0.18484534, -0.00827249,  0.62935805,  0.10615599, -0.00802351,\n",
       "        1.0251864 ,  0.49506772,  0.8921049 ,  0.00698317,  0.8300236 ,\n",
       "        0.7710276 , -0.0023746 , -0.00802351,  0.00269255,  0.94847995,\n",
       "        0.04783957,  0.40469512,  1.0770775 , -0.04926236,  0.08004865],\n",
       "      dtype=float32)"
      ]
     },
     "execution_count": 297,
     "metadata": {},
     "output_type": "execute_result"
    }
   ],
   "source": [
    "y_pred\n"
   ]
  },
  {
   "cell_type": "code",
   "execution_count": 298,
   "id": "8659df5c-ddcb-40be-a1ce-4cdeaa008e63",
   "metadata": {},
   "outputs": [
    {
     "data": {
      "text/plain": [
       "0.5699995673630518"
      ]
     },
     "execution_count": 298,
     "metadata": {},
     "output_type": "execute_result"
    }
   ],
   "source": [
    "r2_score(y_test, y_pred)\n"
   ]
  },
  {
   "cell_type": "code",
   "execution_count": 299,
   "id": "24a2cdd8-ffc9-4cb2-b0af-622bfadb37fa",
   "metadata": {},
   "outputs": [],
   "source": [
    "initial_types = [(\n",
    "          'float_input',\n",
    "          FloatTensorType(  [None, 11 ]  )\n",
    "\n",
    ")]"
   ]
  },
  {
   "cell_type": "code",
   "execution_count": null,
   "id": "98bf20f9-5454-4106-ba63-47298171cb6b",
   "metadata": {},
   "outputs": [],
   "source": []
  },
  {
   "cell_type": "code",
   "execution_count": 301,
   "id": "f94d0a39-c791-453e-8979-875d34ebdab0",
   "metadata": {},
   "outputs": [
    {
     "name": "stdout",
     "output_type": "stream",
     "text": [
      "Root Mean Squared Error: 0.3127700408045913\n"
     ]
    }
   ],
   "source": [
    "import pandas as pd\n",
    "import numpy as np\n",
    "import xgboost as xgb\n",
    "from sklearn.model_selection import train_test_split\n",
    "from sklearn.metrics import mean_squared_error\n",
    "import onnxmltools\n",
    "from onnxmltools.convert import convert_xgboost\n",
    "from onnxmltools.convert.common.data_types import FloatTensorType\n",
    "\n",
    "# Load data from CSV file\n",
    "data = pd.read_csv('C:/Users/Conno/Dropbox/SocialAds/social_ads.csv')\n",
    "\n",
    "# Assuming 'Purchased' is the target column\n",
    "target_column_name = 'Purchased'\n",
    "\n",
    "# Separate features (X) and target variable (y)\n",
    "X = data.drop(columns=[target_column_name])\n",
    "y = data[target_column_name]\n",
    "\n",
    "# Rename columns to match 'f%d' pattern for ONNX compatibility\n",
    "X.columns = ['f{}'.format(i) for i in range(len(X.columns))]\n",
    "\n",
    "# Split data into training and test sets\n",
    "X_train, X_test, y_train, y_test = train_test_split(X, y, test_size=0.2, random_state=42)\n",
    "\n",
    "# Create an instance of XGBRegressor\n",
    "regressor = xgb.XGBRegressor(n_estimators=100, reg_lambda=1, gamma=0, max_depth=3)\n",
    "\n",
    "# Fit the regressor to the training data\n",
    "regressor.fit(X_train, y_train)\n",
    "\n",
    "# Make predictions on the test data\n",
    "y_pred = regressor.predict(X_test)\n",
    "\n",
    "# Evaluate the model (e.g., using RMSE)\n",
    "rmse = np.sqrt(mean_squared_error(y_test, y_pred))\n",
    "print(\"Root Mean Squared Error:\", rmse)\n",
    "\n",
    "# Specify the initial types for input data (X_test)\n",
    "initial_type = [('float_input', FloatTensorType([None, X_test.shape[1]]))]\n",
    "\n",
    "# Convert XGBoost model to ONNX format\n",
    "onnx_model = convert_xgboost(regressor, initial_types=initial_type)\n",
    "\n",
    "# Save the ONNX model to a file\n",
    "onnxmltools.utils.save_model(onnx_model, 'xgboost_AdsQuality_ort.onnx')\n"
   ]
  },
  {
   "cell_type": "code",
   "execution_count": 302,
   "id": "88d363b9-c723-4216-b264-0f2cb62065c6",
   "metadata": {},
   "outputs": [],
   "source": [
    "sess = rt.InferenceSession('xgboost_AdsQuality_ort.onnx')\n"
   ]
  },
  {
   "cell_type": "code",
   "execution_count": 303,
   "id": "37cf8681-619b-437f-ae52-a985d664a0df",
   "metadata": {},
   "outputs": [],
   "source": [
    "input_name = sess.get_inputs()[0].name\n"
   ]
  },
  {
   "cell_type": "code",
   "execution_count": 304,
   "id": "47d96b87-6076-4b3f-800f-4ed95338097c",
   "metadata": {},
   "outputs": [
    {
     "data": {
      "text/plain": [
       "'float_input'"
      ]
     },
     "execution_count": 304,
     "metadata": {},
     "output_type": "execute_result"
    }
   ],
   "source": [
    "input_name\n"
   ]
  },
  {
   "cell_type": "code",
   "execution_count": 305,
   "id": "2c3b3904-7f65-4c82-a21a-621f5d6bdfd4",
   "metadata": {},
   "outputs": [],
   "source": [
    "label_name = sess.get_outputs()[0].name\n"
   ]
  },
  {
   "cell_type": "code",
   "execution_count": 306,
   "id": "4c883afc-4d3e-4dc6-a911-6d05e2d2f2eb",
   "metadata": {},
   "outputs": [
    {
     "data": {
      "text/plain": [
       "'variable'"
      ]
     },
     "execution_count": 306,
     "metadata": {},
     "output_type": "execute_result"
    }
   ],
   "source": [
    "label_name\n"
   ]
  },
  {
   "cell_type": "code",
   "execution_count": 308,
   "id": "4f7ad18c-5677-4ae1-a439-78001e864dcd",
   "metadata": {},
   "outputs": [],
   "source": [
    "import numpy as np\n",
    "import onnxruntime as ort\n",
    "\n",
    "# Assuming you have already loaded the ONNX model and defined 'sess' and 'input_name' variables\n",
    "\n",
    "# Convert the input data to the correct format (list of dictionaries)\n",
    "input_data = {input_name: X_test.values.astype(np.float32)}\n",
    "\n",
    "# Run inference using the ONNX runtime session\n",
    "pred_ort = sess.run([], input_data)\n"
   ]
  },
  {
   "cell_type": "code",
   "execution_count": 309,
   "id": "6f9026ef-8e6d-4eca-8703-7fca0aa8c98f",
   "metadata": {},
   "outputs": [
    {
     "data": {
      "text/plain": [
       "array([[ 0.97881824],\n",
       "       [ 1.0722198 ],\n",
       "       [-0.01612118],\n",
       "       [ 0.69160265],\n",
       "       [ 0.00269258],\n",
       "       [-0.00364685],\n",
       "       [ 0.92975307],\n",
       "       [-0.04941067],\n",
       "       [ 0.17307116],\n",
       "       [-0.05790854],\n",
       "       [-0.06412286],\n",
       "       [ 1.0540606 ],\n",
       "       [-0.04901338],\n",
       "       [ 0.00269258],\n",
       "       [ 0.10731781],\n",
       "       [ 0.99423003],\n",
       "       [ 0.69384825],\n",
       "       [ 0.36983162],\n",
       "       [ 0.01365972],\n",
       "       [ 0.9047274 ],\n",
       "       [ 0.00269258],\n",
       "       [ 0.04174599],\n",
       "       [ 0.97134066],\n",
       "       [ 0.20400605],\n",
       "       [ 0.00269258],\n",
       "       [ 0.66524625],\n",
       "       [ 0.37050563],\n",
       "       [ 0.04806331],\n",
       "       [ 1.0379674 ],\n",
       "       [ 0.00269258],\n",
       "       [ 0.5294752 ],\n",
       "       [ 0.5723105 ],\n",
       "       [ 0.9568512 ],\n",
       "       [ 0.11018369],\n",
       "       [ 1.0043905 ],\n",
       "       [ 0.0288375 ],\n",
       "       [ 0.04806331],\n",
       "       [-0.10905135],\n",
       "       [ 0.00269258],\n",
       "       [ 0.0091081 ],\n",
       "       [ 0.99111396],\n",
       "       [-0.00802353],\n",
       "       [-0.00802353],\n",
       "       [ 0.97134066],\n",
       "       [ 0.04808855],\n",
       "       [ 0.6999849 ],\n",
       "       [ 0.00196835],\n",
       "       [ 0.05515099],\n",
       "       [ 0.56463146],\n",
       "       [-0.0115478 ],\n",
       "       [ 0.11018369],\n",
       "       [ 0.5426278 ],\n",
       "       [-0.05320099],\n",
       "       [ 0.04174599],\n",
       "       [ 0.1707659 ],\n",
       "       [ 0.00269258],\n",
       "       [ 1.0148811 ],\n",
       "       [ 1.0309135 ],\n",
       "       [-0.00744614],\n",
       "       [ 0.01304147],\n",
       "       [ 0.18484533],\n",
       "       [-0.0082725 ],\n",
       "       [ 0.6293583 ],\n",
       "       [ 0.10615593],\n",
       "       [-0.00802353],\n",
       "       [ 1.0251863 ],\n",
       "       [ 0.4950676 ],\n",
       "       [ 0.89210516],\n",
       "       [ 0.00698319],\n",
       "       [ 0.83002365],\n",
       "       [ 0.7710276 ],\n",
       "       [-0.00237462],\n",
       "       [-0.00802353],\n",
       "       [ 0.00269258],\n",
       "       [ 0.94848   ],\n",
       "       [ 0.04783958],\n",
       "       [ 0.40469527],\n",
       "       [ 1.0770779 ],\n",
       "       [-0.04926237],\n",
       "       [ 0.08004865]], dtype=float32)"
      ]
     },
     "execution_count": 309,
     "metadata": {},
     "output_type": "execute_result"
    }
   ],
   "source": [
    "pred_ort[0]\n"
   ]
  },
  {
   "cell_type": "code",
   "execution_count": null,
   "id": "96fa0a4d-1a71-4b39-a452-99f6b415dbfe",
   "metadata": {},
   "outputs": [],
   "source": []
  },
  {
   "cell_type": "code",
   "execution_count": null,
   "id": "072b2501-94d3-4e4d-be02-7c833d34ae9b",
   "metadata": {},
   "outputs": [],
   "source": []
  },
  {
   "cell_type": "code",
   "execution_count": null,
   "id": "0f1f37b6-d5e7-41a1-8945-009eb104122b",
   "metadata": {},
   "outputs": [],
   "source": []
  },
  {
   "cell_type": "code",
   "execution_count": null,
   "id": "2a2d7aa3-6987-471f-9046-fa788f165d47",
   "metadata": {},
   "outputs": [],
   "source": []
  },
  {
   "cell_type": "code",
   "execution_count": null,
   "id": "552209d9-afa4-4788-a775-e4e6535d8f4d",
   "metadata": {},
   "outputs": [],
   "source": []
  },
  {
   "cell_type": "code",
   "execution_count": null,
   "id": "2ba835d9-b19e-4e7b-a69a-00a60436efaf",
   "metadata": {},
   "outputs": [],
   "source": []
  },
  {
   "cell_type": "code",
   "execution_count": null,
   "id": "adc47cb3-05d7-45cc-b527-7b11d74c05c3",
   "metadata": {},
   "outputs": [],
   "source": []
  },
  {
   "cell_type": "code",
   "execution_count": null,
   "id": "3c7177c3-35b7-486b-8acb-70bcd5434d16",
   "metadata": {},
   "outputs": [],
   "source": []
  }
 ],
 "metadata": {
  "kernelspec": {
   "display_name": "Python 3 (ipykernel)",
   "language": "python",
   "name": "python3"
  },
  "language_info": {
   "codemirror_mode": {
    "name": "ipython",
    "version": 3
   },
   "file_extension": ".py",
   "mimetype": "text/x-python",
   "name": "python",
   "nbconvert_exporter": "python",
   "pygments_lexer": "ipython3",
   "version": "3.11.7"
  }
 },
 "nbformat": 4,
 "nbformat_minor": 5
}
